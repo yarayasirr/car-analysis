{
 "cells": [
  {
   "cell_type": "markdown",
   "id": "f4f9ec3e-38e1-4c57-8c93-551f3d86d039",
   "metadata": {},
   "source": [
    "# Cars Dataset Analysis"
   ]
  },
  {
   "cell_type": "markdown",
   "id": "c7180392-c422-4e09-8136-5422e28a7ba9",
   "metadata": {},
   "source": [
    "Dataset Desription"
   ]
  },
  {
   "cell_type": "markdown",
   "id": "2215b095-8566-4ca4-be91-3f87bec4c47a",
   "metadata": {},
   "source": [
    "This dataset contains specifications for 1,218 cars, including details like engine type, battery capacity, horsepower, top speed, fuel type, and price. All columns are currently in string format, with a few missing values and 4 duplicate rows."
   ]
  },
  {
   "cell_type": "code",
   "execution_count": 1,
   "id": "ffb254ea-b9da-4fb0-9021-5c2e17e132d0",
   "metadata": {},
   "outputs": [],
   "source": [
    "import pandas as pd\n",
    "import numpy as np\n",
    "import matplotlib.pyplot as plt\n",
    "import seaborn as sns\n",
    "import re\n",
    "import matplotlib.cm as cm\n",
    "import matplotlib.colors as mcolors"
   ]
  },
  {
   "cell_type": "code",
   "execution_count": 2,
   "id": "7581a1b8-37db-4f00-b566-0639f9a85bac",
   "metadata": {},
   "outputs": [],
   "source": [
    "# using 'ISO-8859-1' encoding to properly read special characters that may not be supported by default 'utf-8'\n",
    "df = pd.read_csv(\"Cars  Datasets.csv\", encoding='ISO-8859-1')"
   ]
  },
  {
   "cell_type": "code",
   "execution_count": 3,
   "id": "c8f79d5f-d334-4902-933f-91acb412f79c",
   "metadata": {},
   "outputs": [
    {
     "name": "stdout",
     "output_type": "stream",
     "text": [
      "<class 'pandas.core.frame.DataFrame'>\n",
      "RangeIndex: 1218 entries, 0 to 1217\n",
      "Data columns (total 11 columns):\n",
      " #   Column                     Non-Null Count  Dtype \n",
      "---  ------                     --------------  ----- \n",
      " 0   Company Names              1218 non-null   object\n",
      " 1   Cars Names                 1218 non-null   object\n",
      " 2   Engines                    1218 non-null   object\n",
      " 3   CC/Battery Capacity        1215 non-null   object\n",
      " 4   HorsePower                 1218 non-null   object\n",
      " 5   Total Speed                1218 non-null   object\n",
      " 6   Performance(0 - 100 )KM/H  1212 non-null   object\n",
      " 7   Cars Prices                1218 non-null   object\n",
      " 8   Fuel Types                 1218 non-null   object\n",
      " 9   Seats                      1218 non-null   object\n",
      " 10  Torque                     1217 non-null   object\n",
      "dtypes: object(11)\n",
      "memory usage: 104.8+ KB\n"
     ]
    }
   ],
   "source": [
    "df.info()"
   ]
  },
  {
   "cell_type": "code",
   "execution_count": 4,
   "id": "0ecb27cc-10d6-48ca-b3f2-4d34126eaa82",
   "metadata": {},
   "outputs": [
    {
     "data": {
      "text/plain": [
       "array(['3990 cc', '6749 cc', '1,200 cc', '3,982 cc', '5,204 cc',\n",
       "       '3,994 cc', '3,996 cc', '6,498 cc', '3,900 cc', '6496 cc',\n",
       "       '6,496 cc', '2,998 cc', '1,998 cc', '2,387 cc', '5,663 cc',\n",
       "       '3,799 cc', '3,696 cc', '2,488 cc', '3,498 cc', '5,598 cc',\n",
       "       '5,935 cc', '3,998 cc', '6,592 cc', '6,749 cc', '1991 cc',\n",
       "       '2,996 cc', '1,991 cc', nan, '5,980 cc', '4,395 cc', '2,993 cc',\n",
       "       '4,935 cc', '3,993 cc', '2,995 cc', '1,984 cc', '95 kwh',\n",
       "       '11.6 kwh', '1,499 cc', '1,496 cc', '1,995 cc', '1,598 cc',\n",
       "       '1,969 cc', '2,480 cc', '1,996 cc', '1,600 cc / 13.8 kwh',\n",
       "       '1,498 cc', '1,600 cc / 1.49 kwh', '1,598 cc / 13.8 kwh',\n",
       "       '3,471 cc', '3,500 cc', '1,798 cc', '2,494 cc', '3,456 cc',\n",
       "       '3,956 cc', '2,694 cc', '1,986 cc',\n",
       "       '64.8 kwh (Base Model),72.8 kwh (Higher End Model', '1,497 cc',\n",
       "       '1,197 cc', '1,396 cc', '1,999 cc', '2,179 cc', '1,997 cc',\n",
       "       '1,462 cc', '1,618 cc', '3,346 cc', '3,445 cc', '1,987 cc',\n",
       "       '1.24 kwh', '2,755 cc', 'HYBRID(2,494 cc),V6(3,456 cc)',\n",
       "       '4,009 cc', '1,490 cc', '998 cc', '75 KWH', '65 KWH', '1,600 cc',\n",
       "       '72.6 KWH', '2,500 cc', '1,591 cc', '2,000 cc',\n",
       "       '53.6 kwh(Standard Range) / 77.4 kwh(Long Range)', '3,800 cc',\n",
       "       '39.2 kwh', '1.56 kwh', '3,300 cc', '1498 cc / 40 - 58 kWh',\n",
       "       '1984 cc', '1498 cc', '999 cc / 1598 cc', '77 kWh', '32.3 kWh',\n",
       "       '2967 cc / 3956 cc', '2967 cc', '3954 cc', '58 - 77 kWh',\n",
       "       '1968 cc', '999 cc', '999 cc / 1498 cc', '2995 cc',\n",
       "       '1395 cc / 1968 cc', '1199 cc', '58 kWh', '1498 cc / 1968 cc',\n",
       "       '1390 cc / 1199 cc', '2861 cc', '2967 cc / 5998 cc',\n",
       "       '1197 cc / 1984 cc', '1390 cc / 1598 cc', '1192 cc',\n",
       "       '1198 cc / 1390 cc', '1598 cc', '35.8 kWh', '1598 cc / 1896 cc',\n",
       "       '1984 cc / 3597 cc', '~50 kWh (Estimate)',\n",
       "       '1395 cc + Electric Motor', '3956 cc', '1395 cc', '1781 cc',\n",
       "       '3189 cc', '1598 cc / 1984 cc', '800 cc + Electric Motor',\n",
       "       '1395 cc + Battery', '3996 cc', '5552 cc', '1332 cc', '3498 cc',\n",
       "       '2997 cc', '1798 cc', '1198 cc', '1461 cc', '3799 cc', '3696 cc',\n",
       "       '87 kWh', '1197 cc', '1997 cc', '1998 cc', '2498 cc', '1796 cc',\n",
       "       '4750 cc', '2488 cc', '1497 cc', '5026 cc', '1838 cc', '2960 cc',\n",
       "       '2438 cc', '2568 cc', '2298 cc', '1397 cc', '2825 cc', '2664 cc',\n",
       "       '3000 cc', '1595 cc', '3495 cc', '987 cc', '2389 cc', '2999 cc',\n",
       "       '659 cc', '1770 cc', '1597 cc', '4494 cc', '2393 cc', '1769 cc',\n",
       "       '2663 cc', '4169 cc', '3275 cc', '4130 cc', '2753 cc', '1809 cc',\n",
       "       '1839 cc', '2953 cc', '2894 cc', '17.9 kWh Battery', '2981 cc',\n",
       "       '3745 cc', '79.2 kWh', '93.4 kWh', '1988 cc', '2497 cc', '3995 cc',\n",
       "       '95 kWh', '2000 cc', '2700 cc', '4194 cc', '24 kWh',\n",
       "       '1199 cc / 1497 cc', '624 cc', '1396 cc', '1193 cc', '26 kWh',\n",
       "       '1248 cc / 1199 cc', '6200 cc', '1248 cc / 1368 cc', '40.5 kWh',\n",
       "       '1956 cc', '2179 cc', '2956 cc', '30.2 kWh', '100 kWh', '60 kWh',\n",
       "       '82 kWh', '75 kWh', '200 kWh', '3600 cc', '2400 cc', '1300 cc',\n",
       "       '5700 cc', '6400 cc', '17.3 kWh', '11.4 kWh', '1,500 cc',\n",
       "       '3200 cc', '1400 cc', '1500 cc', '5300 cc', '6600 cc', '66 kWh',\n",
       "       '2800 cc', '1200 cc', '4300 cc', '2500 cc', '212 kWh', '3,564 cc',\n",
       "       '5,327 cc', '2,713 cc', '6,600 cc', '6,162 cc', '4,300 cc',\n",
       "       '1591 cc', '1,599 cc (petrol) + Electric Motor', '3778 cc',\n",
       "       '1999 cc', '77.4 kWh', '3500 cc',\n",
       "       '1,598 cc (petrol) + Electric Motor', '3300 cc',\n",
       "       '1,599 cc (Petrol) + Electric Motor', '50 kWh', '7993 cc',\n",
       "       '13000 cc', '16100 cc', '12800 cc', '7700 cc', '5100 cc',\n",
       "       '2995 cc (V6)', '1999 cc (I4)', '90 kWh (Battery)',\n",
       "       '1999 cc (I4) / 2995 cc (V6)', '1998 cc (I4)', '5000 cc (V8)',\n",
       "       '1999 cc (I4) + Electric', '3,493 cc (V6)', '3,500 cc (V6)',\n",
       "       '1,500 cc (I4)', '2,400 cc (I4)', '2,400 cc', '3,493 cc',\n",
       "       '3,000 cc', '1,199 cc', '1,560 cc', '2,200 cc', '-',\n",
       "       '1,500 - 2,000 cc', '2,000 - 3,500 cc', '1,000 - 1,500 cc',\n",
       "       '1,000 - 2,000 cc', '1,500 - 2,500 cc', '2,000 - 2,700 cc',\n",
       "       '2,300 - 3,000 cc', '3,500 - 5,400 cc', '2,300 - 2,700 cc',\n",
       "       '3,300 - 5,000 cc', '6,200 - 7,300 cc', '6,700 - 7,300 cc',\n",
       "       '2,500 - 2,000 cc', 'Battery (68-98 kWh)', 'Battery (98 kWh)',\n",
       "       '5,000 cc', '2,300 cc', '2,700 cc', '1,000 cc', '6,700 cc',\n",
       "       '5,200 cc', '7,300 cc', '89 kWh (Electric)',\n",
       "       '3,000 cc (petrol) + Electric Motor',\n",
       "       '2,500 cc (petrol) + Electric Motor', '2,400 cc / 20 kWh battery',\n",
       "       '3,200 cc', '16 kWh battery', '1,100 - 1,500 cc',\n",
       "       '1,600 - 2,000 cc', '2,000 - 2,200 cc', '7,500 cc', '1,800 cc',\n",
       "       '660 cc', '35.5 kWh battery', '1,300 cc', '657 cc', '2,600 cc',\n",
       "       '1,308 cc', '1,588 cc', '1,590 cc', '360 cc', '1,298 cc',\n",
       "       '2,620 cc', '2487 cc', '2393 cc + Battery',\n",
       "       '1987 cc / Hybrid batt', '1798 / 1987 cc + batt', '2487 cc + batt'],\n",
       "      dtype=object)"
      ]
     },
     "execution_count": 4,
     "metadata": {},
     "output_type": "execute_result"
    }
   ],
   "source": [
    "df['CC/Battery Capacity'].unique()"
   ]
  },
  {
   "cell_type": "code",
   "execution_count": 5,
   "id": "abd214e7-0a75-4a61-a86c-8e0c56f35f2b",
   "metadata": {},
   "outputs": [],
   "source": [
    "# Suppress scientific notation\n",
    "np.set_printoptions(suppress=True)"
   ]
  },
  {
   "cell_type": "code",
   "execution_count": 6,
   "id": "0538b76c-7fd4-43d4-92d7-c551fdafa164",
   "metadata": {},
   "outputs": [],
   "source": [
    "def extract_engine_cc(value):\n",
    "    if pd.isnull(value):\n",
    "        return np.nan\n",
    "\n",
    "    value = str(value).lower().strip()\n",
    "\n",
    "    # Remove units and keywords\n",
    "    value = re.sub(r'\\b(cc|kwh|battery|electric|motor|v\\d|i\\d|\\(.*?\\)|\\+.*|~|estimate)\\b', '', value)\n",
    "    value = value.replace(',', '')  # remove commas\n",
    "    value = re.sub(r'[^0-9.\\-/]', '', value)  # keep numbers, dash, dot, slash\n",
    "\n",
    "    # Handle ranges like \"1500-2000\" -> average\n",
    "    if '-' in value:\n",
    "        parts = re.findall(r'\\d+\\.?\\d*', value)\n",
    "        if len(parts) == 2:\n",
    "            return (float(parts[0]) + float(parts[1])) / 2\n",
    "\n",
    "    # Handle values with slashes like \"1598/1984\" -> take first value\n",
    "    if '/' in value:\n",
    "        parts = re.findall(r'\\d+\\.?\\d*', value)\n",
    "        if parts:\n",
    "            return float(parts[0])\n",
    "\n",
    "    # Just extract first float number\n",
    "    match = re.search(r'\\d+\\.?\\d*', value)\n",
    "    if match:\n",
    "        return float(match.group())\n",
    "\n",
    "    return np.nan"
   ]
  },
  {
   "cell_type": "code",
   "execution_count": 7,
   "id": "4e6229c1-081b-470a-bef5-49d530b297ba",
   "metadata": {},
   "outputs": [],
   "source": [
    "df['CC/Battery Capacity'] = df['CC/Battery Capacity'].apply(extract_engine_cc)"
   ]
  },
  {
   "cell_type": "code",
   "execution_count": 8,
   "id": "ed2a680f-e5e5-4697-8266-4fcb84c3591c",
   "metadata": {},
   "outputs": [
    {
     "data": {
      "text/plain": [
       "array([    3990.   ,     6749.   ,     1200.   ,     3982.   ,\n",
       "           5204.   ,     3994.   ,     3996.   ,     6498.   ,\n",
       "           3900.   ,     6496.   ,     2998.   ,     1998.   ,\n",
       "           2387.   ,     5663.   ,     3799.   ,     3696.   ,\n",
       "           2488.   ,     3498.   ,     5598.   ,     5935.   ,\n",
       "           3998.   ,     6592.   ,     1991.   ,     2996.   ,\n",
       "                nan,     5980.   ,     4395.   ,     2993.   ,\n",
       "           4935.   ,     3993.   ,     2995.   ,     1984.   ,\n",
       "             95.   ,       11.6  ,     1499.   ,     1496.   ,\n",
       "           1995.   ,     1598.   ,     1969.   ,     2480.   ,\n",
       "           1996.   ,     1600.   ,     1498.   ,     3471.   ,\n",
       "           3500.   ,     1798.   ,     2494.   ,     3456.   ,\n",
       "           3956.   ,     2694.   ,     1986.   ,       64.872,\n",
       "           1497.   ,     1197.   ,     1396.   ,     1999.   ,\n",
       "           2179.   ,     1997.   ,     1462.   ,     1618.   ,\n",
       "           3346.   ,     3445.   ,     1987.   ,        1.24 ,\n",
       "           2755.   , 24943456.   ,     4009.   ,     1490.   ,\n",
       "            998.   ,       75.   ,       65.   ,       72.6  ,\n",
       "           2500.   ,     1591.   ,     2000.   ,       53.6  ,\n",
       "           3800.   ,       39.2  ,        1.56 ,     3300.   ,\n",
       "            999.   ,       77.   ,       32.3  ,     2967.   ,\n",
       "           3954.   ,       67.5  ,     1968.   ,     1395.   ,\n",
       "           1199.   ,       58.   ,     1390.   ,     2861.   ,\n",
       "           1192.   ,     1198.   ,       35.8  ,       50.   ,\n",
       "           1781.   ,     3189.   ,      800.   ,     5552.   ,\n",
       "           1332.   ,     2997.   ,     1461.   ,       87.   ,\n",
       "           2498.   ,     1796.   ,     4750.   ,     5026.   ,\n",
       "           1838.   ,     2960.   ,     2438.   ,     2568.   ,\n",
       "           2298.   ,     1397.   ,     2825.   ,     2664.   ,\n",
       "           3000.   ,     1595.   ,     3495.   ,      987.   ,\n",
       "           2389.   ,     2999.   ,      659.   ,     1770.   ,\n",
       "           1597.   ,     4494.   ,     2393.   ,     1769.   ,\n",
       "           2663.   ,     4169.   ,     3275.   ,     4130.   ,\n",
       "           2753.   ,     1809.   ,     1839.   ,     2953.   ,\n",
       "           2894.   ,       17.9  ,     2981.   ,     3745.   ,\n",
       "             79.2  ,       93.4  ,     1988.   ,     2497.   ,\n",
       "           3995.   ,     2700.   ,     4194.   ,       24.   ,\n",
       "            624.   ,     1193.   ,       26.   ,     1248.   ,\n",
       "           6200.   ,       40.5  ,     1956.   ,     2956.   ,\n",
       "             30.2  ,      100.   ,       60.   ,       82.   ,\n",
       "            200.   ,     3600.   ,     2400.   ,     1300.   ,\n",
       "           5700.   ,     6400.   ,       17.3  ,       11.4  ,\n",
       "           1500.   ,     3200.   ,     1400.   ,     5300.   ,\n",
       "           6600.   ,       66.   ,     2800.   ,     4300.   ,\n",
       "            212.   ,     3564.   ,     5327.   ,     2713.   ,\n",
       "           6162.   ,     1599.   ,     3778.   ,       77.4  ,\n",
       "           7993.   ,    13000.   ,    16100.   ,    12800.   ,\n",
       "           7700.   ,     5100.   ,       90.   ,     5000.   ,\n",
       "           3493.   ,     1560.   ,     2200.   ,     1750.   ,\n",
       "           2750.   ,     1250.   ,     2350.   ,     2650.   ,\n",
       "           4450.   ,     4150.   ,     6750.   ,     7000.   ,\n",
       "           2250.   ,       83.   ,       98.   ,     2300.   ,\n",
       "           1000.   ,     6700.   ,     5200.   ,     7300.   ,\n",
       "             89.   ,       16.   ,     1800.   ,     2100.   ,\n",
       "           7500.   ,      660.   ,       35.5  ,      657.   ,\n",
       "           2600.   ,     1308.   ,     1588.   ,     1590.   ,\n",
       "            360.   ,     1298.   ,     2620.   ,     2487.   ])"
      ]
     },
     "execution_count": 8,
     "metadata": {},
     "output_type": "execute_result"
    }
   ],
   "source": [
    "df['CC/Battery Capacity'].unique()"
   ]
  },
  {
   "cell_type": "code",
   "execution_count": 9,
   "id": "1d09ff3c-d426-4942-863c-76e94ce0c17b",
   "metadata": {},
   "outputs": [
    {
     "data": {
      "text/plain": [
       "array(['800 Nm', '900 Nm', '100 - 140 Nm', '560 Nm', '770 Nm', '685 Nm',\n",
       "       '690 Nm', '718 Nm', '760 Nm', '719 Nm', '500 Nm', '205 Nm',\n",
       "       '250 Nm', '651 Nm', '637 Nm', '366 Nm', '475 Nm', '380 Nm',\n",
       "       '354 Nm', '240 Nm', '270 Nm', '351 Nm', '381 Nm', '1000 Nm',\n",
       "       '700 Nm', '630 Nm', '821 Nm', '720 Nm', '600 Nm', '850 Nm',\n",
       "       '565 Nm', '870 Nm', '520 Nm', '620 Nm', '950 Nm', '750 Nm',\n",
       "       '650 Nm', '550 Nm', '840 Nm', '400 Nm', '664 Nm', '570 Nm',\n",
       "       '220 Nm', '450 Nm', '280 Nm', '200 Nm', '300 Nm', '350 Nm',\n",
       "       '370 Nm', '360 Nm', '142 Nm', '335 Nm', '150 Nm', '330 Nm',\n",
       "       '145 Nm', '120 Nm', '320 Nm', '113 Nm', '130 Nm', '93 Nm',\n",
       "       '340 Nm', '390 Nm', '420 Nm', '356 Nm', '355 Nm', '151 Nm',\n",
       "       '395 Nm', '264 Nm', '295 Nm', '175 Nm', '310 Nm', '95 Nm',\n",
       "       '385 Nm', '460 Nm', '410 Nm', '245 Nm', '132 Nm', '106 Nm',\n",
       "       '153 Nm', '290 Nm', '580 Nm', '170 Nm', '230 Nm', '210 Nm',\n",
       "       '140 Nm', '154 Nm', '160 Nm', '260 Nm', '325 Nm', '353 Nm',\n",
       "       '305 Nm', '174 Nm', '156 Nm', '171 Nm', '180 Nm', '248 Nm',\n",
       "       '652 Nm', '190 Nm', '139 Nm', '191 Nm', '199 Nm', '207 Nm',\n",
       "       '780 Nm', '374 Nm', '451 Nm', '329 Nm', '186 Nm', '168 Nm',\n",
       "       '161 Nm', '265 Nm', '217 Nm', '225 Nm', '392 Nm', '110 Nm',\n",
       "       '184 Nm', '275 Nm', '278 Nm', '365 Nm', '135 Nm', '384 Nm',\n",
       "       '103 Nm', '206 Nm', '62 Nm', '188 Nm', '195 Nm', '198 Nm',\n",
       "       '344 Nm', '525 Nm', '820 Nm', '528 Nm', '469 Nm', '465 Nm',\n",
       "       '640 Nm', '1050 Nm', '430 Nm', '345 Nm', '530 Nm', '470 Nm',\n",
       "       '480 Nm', '114 Nm', '113-200 Nm', '51 Nm', '100 Nm',\n",
       "       '190 Nm / 140 Nm', '624 Nm', '135 Nm / 115 Nm', '200 Nm / 115 Nm',\n",
       "       '115 Nm', '170-260 Nm', '967 Nm', '1,400 Nm', '660 Nm', '498 Nm',\n",
       "       '559 Nm', '1,355 Nm', '10,000 Nm', '352 Nm', '285 Nm', '548 Nm',\n",
       "       '617 Nm', '529 Nm', '324 Nm', '440 Nm', '885 Nm', '893 Nm',\n",
       "       '603 Nm', '127 Nm', '519 Nm', '583 Nm', '629 Nm', '1234 Nm',\n",
       "       '236 Nm', '881 Nm', '413 Nm', '255 Nm', '1000+ Nm', '569 Nm',\n",
       "       '259 Nm', '373 Nm', '15,590 Nm', '1,064 Nm', '421 Nm', '179 Nm',\n",
       "       '422 Nm', '246 Nm', '510 Nm', '740 Nm', '1600 Nm', '2600 Nm',\n",
       "       '3500 Nm', '2200 Nm', '2500 Nm', '2400 Nm', '1800 Nm', '1200 Nm',\n",
       "       '696 Nm', '365 Nm / 480 Nm', '215 Nm', '680 Nm', '625 Nm',\n",
       "       '666 Nm', '362 Nm', '247 Nm', '200 - 400 Nm', '300 - 500 Nm',\n",
       "       '130 - 290 Nm', '150 - 400 Nm', '170 - 200 Nm', '230 - 200 Nm',\n",
       "       '400 - 475 Nm', '420 - 500 Nm', '650 - 800 Nm', '400 - 600 Nm',\n",
       "       '250 - 375 Nm', '400 - 700 Nm', '700 - 1,050 Nm',\n",
       "       '1,050 - 1,200 Nm', '250 - 380 Nm', '400 - 540 Nm',\n",
       "       '430 Nm (GT Model)', '1051 Nm', '210 Nm (Electric)', '746 Nm',\n",
       "       '691 Nm', '405 Nm', '1,424 Nm', '847 Nm', '582 Nm', '678 Nm',\n",
       "       '563 Nm', '825 Nm', '542 Nm', '197 Nm', '441 Nm', '407 Nm',\n",
       "       '196 Nm', '141 Nm', '100 - 180 Nm', '154 - 197 Nm', '686 Nm',\n",
       "       '60 Nm', '94 Nm', '181 Nm', '214 Nm', '343 Nm', '173 Nm', '213 Nm',\n",
       "       '252 Nm', '434 Nm', '271 Nm', '202 Nm', '314 Nm', nan, '165 Nm',\n",
       "       '90 Nm', '85 Nm', '80 Nm', '155 Nm', '105 Nm', '45 Nm', '239 Nm',\n",
       "       '190 \\x96 210 Nm', '190 \\x96 205 Nm', '221 \\x96 400 Nm'],\n",
       "      dtype=object)"
      ]
     },
     "execution_count": 9,
     "metadata": {},
     "output_type": "execute_result"
    }
   ],
   "source": [
    "df['Torque'].unique()"
   ]
  },
  {
   "cell_type": "code",
   "execution_count": 10,
   "id": "778d206d-5011-4a50-adf1-aa4547e84a61",
   "metadata": {},
   "outputs": [],
   "source": [
    "def extract_torque_nm(value):\n",
    "    if pd.isnull(value):\n",
    "        return np.nan\n",
    "\n",
    "    value = str(value).lower().strip()\n",
    "\n",
    "    # Normalize Unicode dashes and remove known units/words\n",
    "    value = value.replace('\\x96', '-').replace('–', '-')\n",
    "    value = re.sub(r'\\b(nm|torque|electric|gt model|\\(.*?\\)|\\+.*|~|estimate)\\b', '', value)\n",
    "    value = value.replace(',', '')  # remove commas\n",
    "    value = re.sub(r'[^0-9.\\-/]', '', value)  # keep numbers, dash, dot, slash\n",
    "\n",
    "    # Handle ranges like \"100-140\" -> take average\n",
    "    if '-' in value:\n",
    "        parts = re.findall(r'\\d+\\.?\\d*', value)\n",
    "        if len(parts) == 2:\n",
    "            return (float(parts[0]) + float(parts[1])) / 2\n",
    "\n",
    "    # Handle slash-separated values like \"365/480\"\n",
    "    if '/' in value:\n",
    "        parts = re.findall(r'\\d+\\.?\\d*', value)\n",
    "        if parts:\n",
    "            return float(parts[0])\n",
    "\n",
    "    # Just extract first float number\n",
    "    match = re.search(r'\\d+\\.?\\d*', value)\n",
    "    if match:\n",
    "        return float(match.group())\n",
    "\n",
    "    return np.nan"
   ]
  },
  {
   "cell_type": "code",
   "execution_count": 11,
   "id": "b4a3d753-91dd-4492-9d07-022820ca3221",
   "metadata": {},
   "outputs": [],
   "source": [
    "df['Torque'] = df['Torque'].apply(extract_torque_nm)"
   ]
  },
  {
   "cell_type": "code",
   "execution_count": 12,
   "id": "d3591f03-b6bc-4641-a782-5440161bff22",
   "metadata": {},
   "outputs": [
    {
     "data": {
      "text/plain": [
       "array([  800. ,   900. ,   120. ,   560. ,   770. ,   685. ,   690. ,\n",
       "         718. ,   760. ,   719. ,   500. ,   205. ,   250. ,   651. ,\n",
       "         637. ,   366. ,   475. ,   380. ,   354. ,   240. ,   270. ,\n",
       "         351. ,   381. ,  1000. ,   700. ,   630. ,   821. ,   720. ,\n",
       "         600. ,   850. ,   565. ,   870. ,   520. ,   620. ,   950. ,\n",
       "         750. ,   650. ,   550. ,   840. ,   400. ,   664. ,   570. ,\n",
       "         220. ,   450. ,   280. ,   200. ,   300. ,   350. ,   370. ,\n",
       "         360. ,   142. ,   335. ,   150. ,   330. ,   145. ,   320. ,\n",
       "         113. ,   130. ,    93. ,   340. ,   390. ,   420. ,   356. ,\n",
       "         355. ,   151. ,   395. ,   264. ,   295. ,   175. ,   310. ,\n",
       "          95. ,   385. ,   460. ,   410. ,   245. ,   132. ,   106. ,\n",
       "         153. ,   290. ,   580. ,   170. ,   230. ,   210. ,   140. ,\n",
       "         154. ,   160. ,   260. ,   325. ,   353. ,   305. ,   174. ,\n",
       "         156. ,   171. ,   180. ,   248. ,   652. ,   190. ,   139. ,\n",
       "         191. ,   199. ,   207. ,   780. ,   374. ,   451. ,   329. ,\n",
       "         186. ,   168. ,   161. ,   265. ,   217. ,   225. ,   392. ,\n",
       "         110. ,   184. ,   275. ,   278. ,   365. ,   135. ,   384. ,\n",
       "         103. ,   206. ,    62. ,   188. ,   195. ,   198. ,   344. ,\n",
       "         525. ,   820. ,   528. ,   469. ,   465. ,   640. ,  1050. ,\n",
       "         430. ,   345. ,   530. ,   470. ,   480. ,   114. ,   156.5,\n",
       "          51. ,   100. ,   624. ,   115. ,   215. ,   967. ,  1400. ,\n",
       "         660. ,   498. ,   559. ,  1355. , 10000. ,   352. ,   285. ,\n",
       "         548. ,   617. ,   529. ,   324. ,   440. ,   885. ,   893. ,\n",
       "         603. ,   127. ,   519. ,   583. ,   629. ,  1234. ,   236. ,\n",
       "         881. ,   413. ,   255. ,   569. ,   259. ,   373. , 15590. ,\n",
       "        1064. ,   421. ,   179. ,   422. ,   246. ,   510. ,   740. ,\n",
       "        1600. ,  2600. ,  3500. ,  2200. ,  2500. ,  2400. ,  1800. ,\n",
       "        1200. ,   696. ,   680. ,   625. ,   666. ,   362. ,   247. ,\n",
       "         185. ,   437.5,   725. ,   312.5,   875. ,  1125. ,   315. ,\n",
       "        1051. ,   746. ,   691. ,   405. ,  1424. ,   847. ,   582. ,\n",
       "         678. ,   563. ,   825. ,   542. ,   197. ,   441. ,   407. ,\n",
       "         196. ,   141. ,   175.5,   686. ,    60. ,    94. ,   181. ,\n",
       "         214. ,   343. ,   173. ,   213. ,   252. ,   434. ,   271. ,\n",
       "         202. ,   314. ,     nan,   165. ,    90. ,    85. ,    80. ,\n",
       "         155. ,   105. ,    45. ,   239. ,   197.5,   310.5])"
      ]
     },
     "execution_count": 12,
     "metadata": {},
     "output_type": "execute_result"
    }
   ],
   "source": [
    "df['Torque'].unique()"
   ]
  },
  {
   "cell_type": "code",
   "execution_count": 13,
   "id": "ba6a2a77-a76f-42d5-83e8-a85776a33a30",
   "metadata": {},
   "outputs": [
    {
     "data": {
      "text/plain": [
       "array(['340 km/h', '250 km/h', '165 km/h', '320 km/h', '341 km/h',\n",
       "       '314 km/h', '318 km/h', '356 km/h', '226 km/h', '220 km/h',\n",
       "       '200 km/h', '315 km/h', '290 km/h', '225 km/h', '240 km/h',\n",
       "       '180 km/h', '402 km/h', '362 km/h', '322 km/h', '313 km/h',\n",
       "       '291 km/h', '328 km/h', '324 km/h', '350 km/h', '325 km/h',\n",
       "       '305 km/h', '355 km/h', '285 km/h', '280 km/h', '330 km/h',\n",
       "       '230 km/h', '213 km/h', '216 km/h', '185 km/h', '195 km/h',\n",
       "       '211 km/h', '210 km/h', '272 km/h', '201 km/h', '186 km/h',\n",
       "       '209 km/h', '190 km/h', '160 km/h', '170 km/h', '175 km/h',\n",
       "       '120 km/h', '130 km/h', '215 km/h', '140 km/h', '235 km/h',\n",
       "       '233 km/h', '205 km/h', '183 km/h', '145 km/h', '238 km/h',\n",
       "       '196 km/h', '217 km/h', '138 km/h', '148 km/h', '193 km/h',\n",
       "       '191 km/h', '222 km/h', '246 km/h', '187 km/h', '237 km/h',\n",
       "       '168 km/h', '270 km/h', '155 km/h', '354 km/h', '110 km/h',\n",
       "       '150 km/h', '289 km/h', '300 km/h', '245 km/h', '265 km/h',\n",
       "       '286 km/h', '295 km/h', '232 km/h', '259 km/h', '293 km/h',\n",
       "       '308 km/h', '306 km/h', '296 km/h', '260 km/h', '275 km/h',\n",
       "       '302 km/h', '301 km/h', '310 km/h', '253 km/h', '263 km/h',\n",
       "       '221 km/h', '242 km/h', '304 km/h', '311 km/h', '307 km/h',\n",
       "       '105 km/h', '162 km/h', '125 km/h', '261 km/h', '262 km/h',\n",
       "       '177 km/h', '312 km/h', '420 km/h', '490 km/h', '380 km/h',\n",
       "       '500 km/h', '100 km/h', '90 km/h', '80 km/h', '283 km/h',\n",
       "       '348 km/h', '204 km/h', '300 km/h (est.)', '85 km/h'], dtype=object)"
      ]
     },
     "execution_count": 13,
     "metadata": {},
     "output_type": "execute_result"
    }
   ],
   "source": [
    "df['Total Speed'].unique()"
   ]
  },
  {
   "cell_type": "code",
   "execution_count": 14,
   "id": "f96840de-6396-4a91-b363-a3a9d30777e3",
   "metadata": {},
   "outputs": [],
   "source": [
    "# Clean Total Speed column: remove 'km/h', '(est.)', and convert to numeric\n",
    "df['Total Speed'] = (\n",
    "    df['Total Speed']\n",
    "    .str.replace('km/h', '', regex=False)   # remove km/h\n",
    "    .str.replace('(est.)', '', regex=False) # remove (est.)\n",
    "    .str.strip()                            # remove spaces\n",
    ")\n",
    "\n",
    "# Convert to numeric\n",
    "df['Total Speed'] = pd.to_numeric(df['Total Speed'], errors='coerce')"
   ]
  },
  {
   "cell_type": "code",
   "execution_count": 15,
   "id": "fd21c53a-7167-4cba-a5b1-c4a9326406ee",
   "metadata": {},
   "outputs": [
    {
     "data": {
      "text/plain": [
       "array([340, 250, 165, 320, 341, 314, 318, 356, 226, 220, 200, 315, 290,\n",
       "       225, 240, 180, 402, 362, 322, 313, 291, 328, 324, 350, 325, 305,\n",
       "       355, 285, 280, 330, 230, 213, 216, 185, 195, 211, 210, 272, 201,\n",
       "       186, 209, 190, 160, 170, 175, 120, 130, 215, 140, 235, 233, 205,\n",
       "       183, 145, 238, 196, 217, 138, 148, 193, 191, 222, 246, 187, 237,\n",
       "       168, 270, 155, 354, 110, 150, 289, 300, 245, 265, 286, 295, 232,\n",
       "       259, 293, 308, 306, 296, 260, 275, 302, 301, 310, 253, 263, 221,\n",
       "       242, 304, 311, 307, 105, 162, 125, 261, 262, 177, 312, 420, 490,\n",
       "       380, 500, 100,  90,  80, 283, 348, 204,  85])"
      ]
     },
     "execution_count": 15,
     "metadata": {},
     "output_type": "execute_result"
    }
   ],
   "source": [
    "df['Total Speed'].unique()"
   ]
  },
  {
   "cell_type": "code",
   "execution_count": 16,
   "id": "fa841c77-532a-447b-93e9-8d07bfc7cf79",
   "metadata": {},
   "outputs": [
    {
     "data": {
      "text/plain": [
       "array(['963 hp', '563 hp', '70-85 hp', '630 hp', '602 hp', '710 hp',\n",
       "       '656 hp', '550 hp', '750 hp', '789 hp', '592 hp', '612 hp',\n",
       "       '382 hp', '205 hp', '228 hp', '381 hp', '600 hp', '332 hp',\n",
       "       '400 hp', '188 hp', '300 hp', '149 hp', '201 hp', '284 hp',\n",
       "       '310 hp', '1160 hp', '1000 hp', '715 hp', '503 hp', '542 hp',\n",
       "       '580 hp', '540 hp', '836 hp', '819 hp', '759 hp', '640 hp',\n",
       "       '740 hp', '641 hp', '610 hp', '700 hp', '769 hp', '671 hp',\n",
       "       '591 hp', '624 hp', '496 hp', '603 hp', '429 hp', '362 hp',\n",
       "       '416 hp', '402 hp', '255 hp', '751 hp', '627 hp', '493 hp',\n",
       "       '444 hp', '523 hp', '623 hp', '335 hp', '349 hp', '306 hp',\n",
       "       '248 hp', '369 hp', '136 hp', '261 hp', '302 hp', '116 hp',\n",
       "       '190 hp', '109 hp', '150 hp', '178 hp', '224 hp', '95 hp',\n",
       "       '102 hp', '163 hp', '247 hp', '295 hp', '187 hp', '240 hp',\n",
       "       '315 hp', '192 hp', '227 hp', '285 hp', '180 hp', '301 hp',\n",
       "       '139 hp', '121 hp', '203 hp', '270 hp', '159 hp', '151 hp',\n",
       "       '245 hp', '219 hp', '282 hp', '344 hp', '106 hp', '144 hp',\n",
       "       '218 hp', '236 hp', '168 hp', '140 hp', '119 hp', '158 hp',\n",
       "       '87 hp', '99 hp', '147 hp', '155 hp', '83 hp', '103 hp', '220 hp',\n",
       "       '305 hp', '437 hp', '169 hp', '152 hp', '296 hp', '204 hp',\n",
       "       '184 hp', '134 hp', '114 hp', '71 hp', '204 hp ', '406 hp',\n",
       "       '241 hp', '268 hp', '253 hp', '225 hp', '281 hp', '2488 cc',\n",
       "       '320 hp', '291 hp', '191 hp', '120 hp', '200 hp', '275 hp',\n",
       "       '161 hp', '278 hp', '160 hp', '110 - 320 hp', '150 - 280 hp',\n",
       "       '150 - 230 hp', '150 - 228 hp', '80 - 200 hp', '201 - 302 hp',\n",
       "       '82 hp', '231 - 500 hp', '125 - 280 hp', '105 - 210 hp',\n",
       "       '163 - 258 hp', '115 - 300 hp', '150 - 220 hp', '102 - 150 hp',\n",
       "       '95 - 150 hp', '150 - 204 hp', '190 - 240 hp', '115 hp',\n",
       "       '174 - 299 hp', '462 hp', '150 - 218 hp', '75 - 95 hp',\n",
       "       '130 - 150 hp', '147 - 200 hp', '280 hp', '184 - 230 hp',\n",
       "       '190 - 320 hp', '299 hp', '102 - 177 hp', '60 - 75 hp',\n",
       "       '240 - 450 hp', '110 hp', '85 - 105 hp', '34 - 60 hp',\n",
       "       '55 - 75 hp', '105 - 110 hp', '100 - 150 hp', '235 - 276 hp',\n",
       "       '82 - 115 hp', '115 - 150 hp', '200 - 280 hp', '102 - 204 hp',\n",
       "       '204 - 258 hp', '~170 hp', '75 - 105 hp', '421 hp', '98 hp',\n",
       "       '150 - 320 hp', '120 - 240 hp', '137 hp', '272 hp', '170 hp',\n",
       "       '150 - 200 hp', '68 hp', '150 - 184 hp', '150 - 240 hp',\n",
       "       '190 - 280 hp', '130 hp', '122 - 150 hp', '61 hp', '215 hp',\n",
       "       '290 hp', '190 - 230 hp', '174 hp', '147 - 150 hp', '207 hp',\n",
       "       '231 - 340 hp', '310 - 340 hp', '265 hp', '122 HP', '100 HP',\n",
       "       '400 HP', '156 HP', '260 HP', '300 HP', '201 HP', '137 HP',\n",
       "       '109 HP', '118 HP', '117 HP', '110 HP', '261 HP', '600 HP',\n",
       "       '332 HP', '389 HP', '126 HP', '115 HP', '102 HP', '133 HP',\n",
       "       '79 HP', '141 HP', '179 HP', '284 HP', '104 HP', '720 HP',\n",
       "       '350 HP', '428 HP', '140 HP', '150 HP', '210 HP', '120 HP',\n",
       "       '280 HP', '250 HP', '190 HP', '158 HP', '420 HP', '390 HP',\n",
       "       '125 HP', '276 HP', '268 HP', '129 HP', '85 HP', '130 HP', '67 HP',\n",
       "       '94 HP', '247 HP', '105 HP', '204 HP', '500 HP', '328 HP', '96 HP',\n",
       "       '200 HP', '550 HP', '76 HP', '134 HP', '48 HP', '131 HP', '138 HP',\n",
       "       '205 HP', '187 HP', '565 HP', '325 HP', '151 HP', '135 HP',\n",
       "       '127 HP', '230 HP', '114 HP', '155 HP', '170 HP', '270 HP',\n",
       "       '255 HP', '340 HP', '145 HP', '175 HP', '375 HP', '330 HP',\n",
       "       '440 HP', '620 HP', '473 HP', '455 HP', '690 HP', '335 HP',\n",
       "       '434 HP', '541 HP', '453 HP', '670 HP', '379 HP', '443 hp',\n",
       "       '379 hp', '572 hp', '502 hp', '518 hp', '473 hp', '522 hp',\n",
       "       '670 hp', '590 hp', '469 hp', '509 hp', '350 hp', '414 hp',\n",
       "       '394 hp', '325 hp', '690 hp', '560 hp', '570 hp', '375 hp',\n",
       "       '434 hp', '455 hp', '631 hp', '453 hp', '262 hp', '380 hp',\n",
       "       '728 hp', '321 hp', '237 hp', '360 hp', '525 hp', '607 hp',\n",
       "       '510 hp', '500 hp', '515 hp', '86 hp', '74 hp', '86 hp / 89 hp',\n",
       "       '37 hp', '70 hp', '65 hp', '75 hp / 90 hp', '420 hp',\n",
       "       '70 hp / 85 hp', '85 hp', '118 hp / 110 hp', '143 hp', '154 hp',\n",
       "       '138 hp', '118 hp', '129 hp', '1,020 hp', '283 hp', '450 hp',\n",
       "       '346 hp', '384 hp', '800 hp', '1,288 hp', '293 hp', '177 hp',\n",
       "       '392 hp', '471 hp', '108 hp', '357 hp', '271 hp', '470 hp',\n",
       "       '235 hp', '340 hp', '682 hp', '668 hp', '472 hp', '495 hp',\n",
       "       '308 hp', '355 hp', '401 hp', '445 hp', '250 hp', '650 hp',\n",
       "       '181 hp', '460 hp', '193 hp', '175 hp', '625 hp', 'Up to 830 hp',\n",
       "       'Up to 1,000 hp', 'Up to 754 hp', '277 hp', '146 hp', '365 hp',\n",
       "       '577 hp', '1500 hp', '1600 hp', '1850 hp', '250 hp / 340 hp',\n",
       "       '575 hp', '246 hp', '398 hp', '206 hp', '537 hp', '100 hp',\n",
       "       '165 hp', '75 hp', '208 hp', '160 - 250 hp', '200 - 365 hp',\n",
       "       '85 - 200 hp', '120 - 300 hp', '70 - 85 hp', '123 - 166 hp',\n",
       "       '181 - 200 hp', '250 - 335 hp', '300 - 400 hp', '375 - 400 hp',\n",
       "       '275 - 310 hp', '181 - 250 hp', '290 - 450 hp', '385 - 475 hp',\n",
       "       '450 - 475 hp', '191 - 250 hp', '270 - 325 hp', '290-480 hp',\n",
       "       '452 hp', '318 hp', '660 hp', '123 hp', '210 hp', '287 hp',\n",
       "       '162 hp', '475 hp', '760 hp', '526 hp', '440 hp', '266 hp',\n",
       "       '457 hp', '221 hp', '78 hp', '148 hp', '189 hp', '66 hp', '105 hp',\n",
       "       '145 hp', '75 - 150 hp', '117 - 148 hp', '52 hp', '64 hp',\n",
       "       '135 hp', '48 hp', '186 hp', '256 hp', '244 hp', '276 hp',\n",
       "       '400 hp (est.)', '63 hp', '54 hp', '113 hp', '164 hp', '125 hp',\n",
       "       '60 hp', '26 hp', '92 hp', '326 hp', '169 \\x96 196 hp',\n",
       "       '140 \\x96 198 hp', '219 \\x96 302 hp'], dtype=object)"
      ]
     },
     "execution_count": 16,
     "metadata": {},
     "output_type": "execute_result"
    }
   ],
   "source": [
    "df['HorsePower'].unique()"
   ]
  },
  {
   "cell_type": "code",
   "execution_count": 17,
   "id": "61bb924b-6dd6-42af-8c56-8e506280ae80",
   "metadata": {},
   "outputs": [],
   "source": [
    "def extract_horsepower(value):\n",
    "    if pd.isnull(value):\n",
    "        return np.nan\n",
    "\n",
    "    value = str(value).lower().strip()\n",
    "\n",
    "    # Remove units and unwanted characters\n",
    "    value = re.sub(r'(hp|\\(est\\)|\\(.*?\\))', '', value)  # remove hp and (est)\n",
    "    value = re.sub(r'[^\\d\\-]', '', value)  # keep only digits and dash for ranges\n",
    "\n",
    "    # Handle ranges like \"150-200\" → average\n",
    "    if '-' in value:\n",
    "        parts = re.findall(r'\\d+', value)\n",
    "        if len(parts) == 2:\n",
    "            avg = (int(parts[0]) + int(parts[1])) // 2  # floor average\n",
    "            return avg\n",
    "        elif len(parts) == 1:\n",
    "            return int(parts[0])\n",
    "\n",
    "    # Handle single value\n",
    "    match = re.search(r'\\d+', value)\n",
    "    if match:\n",
    "        return int(match.group())\n",
    "\n",
    "    return np.nan\n",
    "\n",
    "# Apply the function\n",
    "df['HorsePower'] = df['HorsePower'].apply(extract_horsepower)"
   ]
  },
  {
   "cell_type": "code",
   "execution_count": 18,
   "id": "d2de4a46-829f-4fba-bee1-7a94ddbf5570",
   "metadata": {},
   "outputs": [
    {
     "data": {
      "text/plain": [
       "array([   963,    563,     77,    630,    602,    710,    656,    550,\n",
       "          750,    789,    592,    612,    382,    205,    228,    381,\n",
       "          600,    332,    400,    188,    300,    149,    201,    284,\n",
       "          310,   1160,   1000,    715,    503,    542,    580,    540,\n",
       "          836,    819,    759,    640,    740,    641,    610,    700,\n",
       "          769,    671,    591,    624,    496,    603,    429,    362,\n",
       "          416,    402,    255,    751,    627,    493,    444,    523,\n",
       "          623,    335,    349,    306,    248,    369,    136,    261,\n",
       "          302,    116,    190,    109,    150,    178,    224,     95,\n",
       "          102,    163,    247,    295,    187,    240,    315,    192,\n",
       "          227,    285,    180,    301,    139,    121,    203,    270,\n",
       "          159,    151,    245,    219,    282,    344,    106,    144,\n",
       "          218,    236,    168,    140,    119,    158,     87,     99,\n",
       "          147,    155,     83,    103,    220,    305,    437,    169,\n",
       "          152,    296,    204,    184,    134,    114,     71,    406,\n",
       "          241,    268,    253,    225,    281,   2488,    320,    291,\n",
       "          191,    120,    200,    275,    161,    278,    160,    215,\n",
       "          189,    251,     82,    365,    202,    157,    210,    207,\n",
       "          185,    126,    122,    177,    115,    462,     85,    173,\n",
       "          280,    299,     67,    345,    110,     47,     65,    107,\n",
       "          125,     98,    132,    153,    231,    170,     90,    421,\n",
       "          235,    137,    272,    175,     68,    167,    195,    130,\n",
       "           61,    290,    174,    148,    325,    265,    100,    156,\n",
       "          260,    118,    117,    389,    133,     79,    141,    179,\n",
       "          104,    720,    350,    428,    250,    420,    390,    276,\n",
       "          129,     94,    105,    500,    328,     96,     76,     48,\n",
       "          131,    138,    565,    135,    127,    230,    340,    145,\n",
       "          375,    330,    440,    620,    473,    455,    690,    434,\n",
       "          541,    453,    670,    379,    443,    572,    502,    518,\n",
       "          522,    590,    469,    509,    414,    394,    560,    570,\n",
       "          631,    262,    380,    728,    321,    237,    360,    525,\n",
       "          607,    510,    515,     86,     74,   8689,     37,     70,\n",
       "         7590,   7085, 118110,    143,    154,   1020,    283,    450,\n",
       "          346,    384,    800,   1288,    293,    392,    471,    108,\n",
       "          357,    271,    470,    682,    668,    472,    495,    308,\n",
       "          355,    401,    445,    650,    181,    460,    193,    625,\n",
       "          830,    754,    277,    146,    577,   1500,   1600,   1850,\n",
       "       250340,    575,    246,    398,    206,    537,    165,     75,\n",
       "          208,    142,    292,    387,    370,    430,    297,    385,\n",
       "          452,    318,    660,    123,    287,    162,    475,    760,\n",
       "          526,    266,    457,    221,     78,     66,    112,     52,\n",
       "           64,    186,    256,    244,     63,     54,    113,    164,\n",
       "           60,     26,     92,    326, 169196, 140198, 219302])"
      ]
     },
     "execution_count": 18,
     "metadata": {},
     "output_type": "execute_result"
    }
   ],
   "source": [
    "df['HorsePower'].unique()"
   ]
  },
  {
   "cell_type": "code",
   "execution_count": 19,
   "id": "7af11910-f6e4-42c4-8aaa-dc514a7cf124",
   "metadata": {},
   "outputs": [
    {
     "data": {
      "text/plain": [
       "array(['2.5 sec', '5.3 sec', '10.5 sec', '3.2 sec', '3.6 sec', '2.9 sec',\n",
       "       '4.0 sec', '3.4 sec', '4.1 sec', '6.4 sec', '5.6 sec', '6.7 sec',\n",
       "       '6.9 sec', '4.7 sec', '7.3 sec', '5.8 sec', '8.2 sec', '7.5 sec',\n",
       "       '6.5 sec', '6.8 sec', '5.9 sec', '3.9 sec', '4.5 sec', '4.2 sec',\n",
       "       '2.8 sec', '3.0 sec', '3.1 sec', '3.3 sec', '4.8 sec', '4.4 sec',\n",
       "       '4.9 sec', '5.2 sec', '4.3 sec', '5.1 sec', '5.5 sec', '5.7 sec',\n",
       "       ' 6.1 sec', '6.1 sec', '3.7 sec', '3.5 sec', '5.4 sec', '6.3 sec',\n",
       "       '3.8 sec', '8.5 sec', '10.3 sec', '10.9 sec', '8.4 sec',\n",
       "       '7.1  sec', '12.2 sec', '11.2 sec', '8.9 sec', '7.1 sec',\n",
       "       '7.7 sec', '7.2 sec', '8.0 sec', '8.3 sec', '7.9 sec', '8.1 sec',\n",
       "       '6.0 sec', '9.4 sec', '9.5 sec', '9.2 sec', '6.2 sec', '10.2 sec',\n",
       "       '7.6 sec', '11.5 sec', '5. 0 sec', '9.0 sec', '10.0 sec', nan,\n",
       "       '11 sec', '14.8 sec', '13.5 sec', '9.3 sec', '7.4 sec',\n",
       "       '10. 5 sec', '14.0 sec', '8 sec', '9.8 sec', '6 sec', '7.8 sec',\n",
       "       '13.0 sec', '7.0 sec', '4.6 sec', '8.8 sec', '14.3 sec',\n",
       "       '12.9 sec', '10.8 sec', '23.0 sec', '17.5 sec', '11.7 sec',\n",
       "       '10.4 sec', '8.6 sec', '12.4 sec', '9.6 sec', '9.9 sec', '8.7 sec',\n",
       "       '12.0 sec', '11.9 sec', '14.5 sec', '10.7 sec', '11.0 sec',\n",
       "       '10.6 sec', '6.6 sec', '10.1 sec', '13.7 sec', '12.5 sec',\n",
       "       '5.0 sec', '15.0 sec', '12.3 sec', '12.8 sec', '18.0 sec',\n",
       "       '18.5 sec', '13.8 sec', '3.5', '4.2', '3.4', '4.4', '2.7', '2.6',\n",
       "       '3.2', '5.4', '4', '2.8', '4.8', '4.1', '4.9', '4.7', '4.3', '5.6',\n",
       "       '5.5', '3.7', '3.9', '3.8', '6.4', '6.2', '4.6', '5.9', '3.3',\n",
       "       '5.8', '3.6', '4.5', '7.3', '6.5', '2.7 sec', '13 sec', '12 sec',\n",
       "       '10 sec', '29 sec', '16 sec', '15 sec', '16.5 sec', '17 sec',\n",
       "       '14 sec', '9 sec', '17.6 sec', '2.1 sec', '2.6 sec', '1.9 sec',\n",
       "       '9.1 sec', '2.3 sec', '2.4 sec', '2.2 sec', '16.0 sec', '17.0 sec',\n",
       "       '20.0 sec', '22.0 sec', '7.2 sec / 5.4 sec', '9.7 sec',\n",
       "       '5.0 - 6.5 sec', '6.5 - 7.0 sec', '7.0 - 8.0 sec', '6.5 - 8.0 sec',\n",
       "       '6.0 - 7.0 sec', '3.5 sec (GT Model)', '9.0 - 12.0 sec',\n",
       "       '15.5 sec', '35.0 sec', '8.0 \\x96 9.2 sec', '7.9 \\x96 10.5 sec',\n",
       "       '6.0 \\x96 8.1 sec'], dtype=object)"
      ]
     },
     "execution_count": 19,
     "metadata": {},
     "output_type": "execute_result"
    }
   ],
   "source": [
    "df['Performance(0 - 100 )KM/H'].unique()"
   ]
  },
  {
   "cell_type": "code",
   "execution_count": 20,
   "id": "04b82b4e-50ea-4131-86d2-13875744b435",
   "metadata": {},
   "outputs": [],
   "source": [
    "def clean_acceleration(value):\n",
    "    if pd.isnull(value):\n",
    "        return np.nan\n",
    "\n",
    "    # Ensure it's string and strip whitespace\n",
    "    val = str(value).strip().lower()\n",
    "\n",
    "    # Replace non-standard dashes\n",
    "    val = val.replace('–', '-').replace('\\x96', '-')\n",
    "\n",
    "    # Remove text like 'sec', '(GT Model)', etc.\n",
    "    val = val.replace('sec', '').split('(')[0].strip()\n",
    "\n",
    "    try:\n",
    "        # Handle ranges like \"6.0 - 7.0\"\n",
    "        if '-' in val:\n",
    "            parts = val.split('-')\n",
    "            nums = [float(p.strip()) for p in parts if p.strip()]\n",
    "            return np.mean(nums) if len(nums) == 2 else float('nan')\n",
    "        # Handle values with slash (e.g., \"7.2 / 5.4\")\n",
    "        elif '/' in val:\n",
    "            parts = val.split('/')\n",
    "            nums = [float(p.strip()) for p in parts if p.strip()]\n",
    "            return np.mean(nums) if len(nums) == 2 else float('nan')\n",
    "        # Just a number\n",
    "        else:\n",
    "            return float(val)\n",
    "    except:\n",
    "        return np.nan"
   ]
  },
  {
   "cell_type": "code",
   "execution_count": 21,
   "id": "9c8a8bb4-cc86-4270-a54f-3fb56e6837bd",
   "metadata": {},
   "outputs": [],
   "source": [
    "df['Performance(0 - 100 )KM/H'] = df['Performance(0 - 100 )KM/H'].apply(clean_acceleration)"
   ]
  },
  {
   "cell_type": "code",
   "execution_count": 22,
   "id": "204b86da-d3b4-4226-9a02-3f767a041d53",
   "metadata": {},
   "outputs": [
    {
     "data": {
      "text/plain": [
       "array([ 2.5 ,  5.3 , 10.5 ,  3.2 ,  3.6 ,  2.9 ,  4.  ,  3.4 ,  4.1 ,\n",
       "        6.4 ,  5.6 ,  6.7 ,  6.9 ,  4.7 ,  7.3 ,  5.8 ,  8.2 ,  7.5 ,\n",
       "        6.5 ,  6.8 ,  5.9 ,  3.9 ,  4.5 ,  4.2 ,  2.8 ,  3.  ,  3.1 ,\n",
       "        3.3 ,  4.8 ,  4.4 ,  4.9 ,  5.2 ,  4.3 ,  5.1 ,  5.5 ,  5.7 ,\n",
       "        6.1 ,  3.7 ,  3.5 ,  5.4 ,  6.3 ,  3.8 ,  8.5 , 10.3 , 10.9 ,\n",
       "        8.4 ,  7.1 , 12.2 , 11.2 ,  8.9 ,  7.7 ,  7.2 ,  8.  ,  8.3 ,\n",
       "        7.9 ,  8.1 ,  6.  ,  9.4 ,  9.5 ,  9.2 ,  6.2 , 10.2 ,  7.6 ,\n",
       "       11.5 ,   nan,  9.  , 10.  , 11.  , 14.8 , 13.5 ,  9.3 ,  7.4 ,\n",
       "       14.  ,  9.8 ,  7.8 , 13.  ,  7.  ,  4.6 ,  8.8 , 14.3 , 12.9 ,\n",
       "       10.8 , 23.  , 17.5 , 11.7 , 10.4 ,  8.6 , 12.4 ,  9.6 ,  9.9 ,\n",
       "        8.7 , 12.  , 11.9 , 14.5 , 10.7 , 10.6 ,  6.6 , 10.1 , 13.7 ,\n",
       "       12.5 ,  5.  , 15.  , 12.3 , 12.8 , 18.  , 18.5 , 13.8 ,  2.7 ,\n",
       "        2.6 , 29.  , 16.  , 16.5 , 17.  , 17.6 ,  2.1 ,  1.9 ,  9.1 ,\n",
       "        2.3 ,  2.4 ,  2.2 , 20.  , 22.  ,  6.3 ,  9.7 ,  5.75,  6.75,\n",
       "        7.25, 15.5 , 35.  ,  7.05])"
      ]
     },
     "execution_count": 22,
     "metadata": {},
     "output_type": "execute_result"
    }
   ],
   "source": [
    "df['Performance(0 - 100 )KM/H'].unique()"
   ]
  },
  {
   "cell_type": "code",
   "execution_count": 23,
   "id": "78aee942-b8cf-4142-a8bb-7693cbebfc1e",
   "metadata": {},
   "outputs": [],
   "source": [
    "df.rename(columns={'Performance(0 - 100 )KM/H': 'Performance'}, inplace=True)"
   ]
  },
  {
   "cell_type": "code",
   "execution_count": 24,
   "id": "e5906c5c-098b-494e-9d00-063cea603d30",
   "metadata": {},
   "outputs": [
    {
     "data": {
      "text/plain": [
       "array(['2', '5', '4', '2+2', '7', '8', '20', '15', '12', '3', '9', '6',\n",
       "       '1', '2\\x9615', '2\\x967', '2\\x966', '7\\x968', '2\\x969', '2\\x9612'],\n",
       "      dtype=object)"
      ]
     },
     "execution_count": 24,
     "metadata": {},
     "output_type": "execute_result"
    }
   ],
   "source": [
    "df['Seats'].unique()"
   ]
  },
  {
   "cell_type": "code",
   "execution_count": 25,
   "id": "0d74da16-509c-452f-9387-3ec09c6f70ac",
   "metadata": {},
   "outputs": [],
   "source": [
    "def clean_seats(value):\n",
    "    if pd.isna(value):\n",
    "        return np.nan\n",
    "\n",
    "    value = str(value)\n",
    "\n",
    "    # Handle 2+2 as 4 seats\n",
    "    if value == '2+2':\n",
    "        return 4\n",
    "\n",
    "    # Handle ranges (2–15, 2–7 etc.)\n",
    "    if '\\x96' in value:\n",
    "        value = value.replace('\\x96', '-')  # normalize dash\n",
    "        parts = value.split('-')\n",
    "        try:\n",
    "            numbers = [int(x) for x in parts if x.isdigit()]\n",
    "            if len(numbers) == 2:\n",
    "                avg = (numbers[0] + numbers[1]) // 2  # floor average\n",
    "                return avg\n",
    "            elif len(numbers) == 1:\n",
    "                return numbers[0]\n",
    "        except:\n",
    "            return np.nan\n",
    "\n",
    "    # Handle single numbers\n",
    "    try:\n",
    "        return int(value)\n",
    "    except:\n",
    "        return np.nan"
   ]
  },
  {
   "cell_type": "code",
   "execution_count": 26,
   "id": "6ca3f173-87e7-49a7-b461-994044aff05d",
   "metadata": {},
   "outputs": [],
   "source": [
    "df['Seats'] = df['Seats'].apply(clean_seats)"
   ]
  },
  {
   "cell_type": "code",
   "execution_count": 27,
   "id": "20b68aa6-04b9-4481-ae7d-c1c86b0578b6",
   "metadata": {},
   "outputs": [],
   "source": [
    "df['Seats'] = df['Seats'].apply(clean_seats).astype('int64')"
   ]
  },
  {
   "cell_type": "code",
   "execution_count": 28,
   "id": "2e01597a-9b0f-47eb-a334-fa6cdb5fcd2a",
   "metadata": {},
   "outputs": [
    {
     "data": {
      "text/plain": [
       "array([ 2,  5,  4,  7,  8, 20, 15, 12,  3,  9,  6,  1])"
      ]
     },
     "execution_count": 28,
     "metadata": {},
     "output_type": "execute_result"
    }
   ],
   "source": [
    "df['Seats'].unique()"
   ]
  },
  {
   "cell_type": "code",
   "execution_count": 29,
   "id": "72754f2c-e425-4737-8656-288546ba0827",
   "metadata": {},
   "outputs": [
    {
     "data": {
      "text/plain": [
       "array(['$1,100,000 ', '$460,000 ', '$12,000-$15,000', '$161,000 ',\n",
       "       '$253,290 ', '$499,000 ', '$193,440 ', '$311,000 ', '$4,500,000 ',\n",
       "       '$280,000 ', '$350,000 ', '$210,000 ', '$230,000 ', '$1,700,000 ',\n",
       "       '$220,000 ', '$240,000 ', '$53,900 ', '$27,000 ', '$30,000 ',\n",
       "       '$85,000 ', '$50,000 ', '$113,000 ', '$40,000 ', '$25,000 ',\n",
       "       '$35,000 ', '$20,000 ', '$28,000 ', '$3,200,000 ', '$316,000 ',\n",
       "       '$208,000 ', '$142,000 ', '$189,000 ', '$294,000 ', '$1,300,000 ',\n",
       "       '$2,800,000 ', '$518,000 ', '$274,000 ', '$261,000 ', '$493,000 ',\n",
       "       '$211,000 ', '$287,000 ', '$445,000 ', '$308,000 ', '$421,000 ',\n",
       "       '$242,000 ', '$545,000 ', '$258,000 ', '$573,000 ', '$263,000 ',\n",
       "       '$327,000 ', '$273,000 ', '$603,000 ', '$253,000 ', '$342,000 ',\n",
       "       '$332,000 ', '$330,000 ', '$360,000 ', '$325,000 ', '$500,000 ',\n",
       "       '$370,000 ', '$390,000 ', '$450,000 ', '$340,000 ', '$380,000 ',\n",
       "       '$320,000 ', '$116,000 ', '$104,000 ', '$53,000 ', '$109,000 ',\n",
       "       '$62,000 ', '$70,000 ', '$99,000 ', '$63,000 ', '$52,000 ',\n",
       "       '$49,000 ', '$54,000 ', '$48,000 ', '$46,000 ', '$71,000 ',\n",
       "       '$90,000 ', '$102,000 ', '$200,000 ', '$133,000 ', '$76,000 ',\n",
       "       '$83,000 ', '$114,000 ', '$69,000 ', '$146,000 ', '$108,000 ',\n",
       "       '$398,000 ', '$381,000 ', '$475,000 ', '$335,000 ', '$349,000 ',\n",
       "       '$495,000 ', '$355,000 ', '$369,000 ', '$418,000 ', '$401,000 ',\n",
       "       '$515,000 ', '$375,000 ', '$389,000 ', '$439,000 ', '$194,000 ',\n",
       "       '$101,000 ', '$96,000 ', '$86,000 ', '$64,000 ', '$59,000 ',\n",
       "       '$60,000 ', '$43,000 ', '$68,000 ', '$58,000 ', '$45,000 ',\n",
       "       '$39,000 ', '$75,000 ', '$78,000 ', '$165,000 ', '$57,000 ',\n",
       "       '$81,000 ', '$32,000 ', '$42,000 ', '$38,000 ', '$34,000 ',\n",
       "       '$37,000 ', '$26,000 ', '$44,000 ', '$29,000 ', '$31,000 ',\n",
       "       '$36,000 ', '$55,000 ', '$33,000 ', '$41,000 ', '$32,500 ',\n",
       "       '$29,400 ', '$26,500 ', '$26,350 ', '$22,500 ', '$26,700 ',\n",
       "       '$27,100 ', '$38,400 ', '$37,400 ', '$26,400 ', '$39,900 ',\n",
       "       '$41,400 ', '$52,400 ', '$44,150 ', '$33,400 ', '$40,400 ',\n",
       "       '$49,400 ', '$43,400 ', '$18,400 ', '$24,400 ', '$15,400 ',\n",
       "       '$20,400 ', '$12,400 ', '$16,400 ', '$10,400 ', '$11,400 ',\n",
       "       '$14,400 ', '$31,100 ', '$36,995 ', '$58,500 ', '$56,000 ',\n",
       "       '$25,390 ', '$49,500 ', '$18,000 ', '$170,000 ', '$24,000 ',\n",
       "       '$40,799 ', '$20,500 ', '$19,950 ', '$41,450 ', '$30,500 ',\n",
       "       '$15,000 ', '$19,000 ', '$22,000 ', '$23,000 ', '$28,505 ',\n",
       "       '$21,995 ', '$39,735 ', '$59,995 ', '$31,965 ', '$44,640 ',\n",
       "       '$14,000 ', '$12,000 ', '$150,000 ', '$16,700 ', '$15,500 ',\n",
       "       '$77,000 ', '$51,000 ', '$14,500 ', '$16,000 ', '$41,820 ',\n",
       "       '$58,950 ', '$70,600 ', '$13,000 ', '$18,500 ', '$24,960 ',\n",
       "       '$28,500 ', '$42,820 ', '$65,300 ', '$45,790 ', '$105,000 ',\n",
       "       '$41,750 ', '$42,500 ', '$175,000 ', '$98,000 ', '$61,750 ',\n",
       "       '$17,500 ', '$95,000 ', '$185,000 ', '$67,000 ', '$47,000 ',\n",
       "       '$600,000 ', '$1,000,000 ', '$10,000 ', '$88,000 ', '$92,000 ',\n",
       "       '$180,000 ', '$130,000 ', '$115,000 ', '$120,000 ', '$190,000 ',\n",
       "       '$80,000 ', '$110,000 ', '$65,000 ', '$131,300 ', '$106,500 ',\n",
       "       '$113,300 ', '$121,300 ', '$197,200 ', '$230,400 ', '$161,100 ',\n",
       "       '$241,300 ', '$222,000 ', '$86,700 ', '$103,800 ', '$150,900 ',\n",
       "       '$132,750 ', '$97,700 ', '$63,400 ', '$75,400 ', '$100,200 ',\n",
       "       '$141,700 ', '$65,500 ', '$69,600 ', '$90,300 ', '$98,300 ',\n",
       "       '$92,300 ', '$101,400 ', '$200,200 ', '$128,900 ', '$136,900 ',\n",
       "       '$175,200 ', '$290,000 ', '$70,400 ', '$82,900 ', '$72,200 ',\n",
       "       '$91,000 ', '$94,300 ', '$182,150 ', '$79,000 ', '$167,800 ',\n",
       "       '$111,200 ', '$85,500 ', '$182,900 ', '$34,395 ', '$46,595 ',\n",
       "       '$38,195 ', '$50,995 ', '$94,800 ', '$139,400 ', '$90,500 ',\n",
       "       '$136,700 ', '$106,100 ', '$129,900 ', '$137,000 ', '$157,300 ',\n",
       "       '$184,100 ', '$207,000 ', '$223,800 ', '$145,300 ', '$135,500 ',\n",
       "       '$293,200 ', '$245,000 ', '$750,000 ', '$191,300 ', '$233,000 ',\n",
       "       '$8,200 ', '$11,000 ', '$11,300 ', '$11,800 ', '$9,200 ',\n",
       "       '$4,000 ', '$6,200 ', '$5,000 ', '$9,400 ', '$8,700 ', '$6,500 ',\n",
       "       '$79,295 ', '$8,300 ', '$9,000 ', '$7,000 ', '$7,200 ', '$82,295 ',\n",
       "       '$25,500 ', '$10,500 ', '$16,500 ', '$88,490 ', '$108,490 ',\n",
       "       '$40,240 ', '$53,240 ', '$98,490 ', '$113,490 ', '$47,490 ',\n",
       "       '$50,490 ', '$69,900 ', '$35,195 ', '$42,100 ', '$41,530 ',\n",
       "       '$43,530 ', '$37,695 ', '$31,590 ', '$28,345 ', '$38,775 ',\n",
       "       '$63,595 ', '$91,495 ', '$59,865 ', '$50,695 ', '$46,500 ',\n",
       "       '$44,500 ', '$17,000-$20,000', '$51,570 ', '$66,575 ', '$41,295 ',\n",
       "       '$82,495 ', '$37,490 ', '$44,195 ', '$48,595 ', '$58,590 ',\n",
       "       '$149,990 ', '$104,595 ', '$60,495 ', '$41,390 ', '$51,095 ',\n",
       "       '$57,095 ', '$59,990 ', '$64,990 ', '$41,290 ', '$14,595 ',\n",
       "       '$16,720 ', '$65,895 ', '$35,915 ', '$26,600 ', '$56,995 ',\n",
       "       '$59,900 ', '$30,695 ', '$42,795 ', '$41,500 ', '$45,500 ',\n",
       "       '$27,495 ', '$28,795 ', '$23,100 ', '$33,500 ', '$67,300 ',\n",
       "       '$61,595 ', '$55,895 ', '$50,895 ', '$48,295 ', '$46,600 ',\n",
       "       '$48,900 ', '$43,500 ', '$65,900 ', '$43,700 ', '$25,800 ',\n",
       "       '$17,595 ', '$24,100 ', '$28,400 ', '$75,700 ', '$29,200 ',\n",
       "       '$82,400 ', '$33,900 ', '$14,395 ', '$37,200 ', '$36,100 ',\n",
       "       '$34,500 ', '$31,900 ', '$34,900 ', '$56,400 ', '$64,100 ',\n",
       "       '$64,400 ', '$31,700 ', '$62,495 ', '$66,700 ', '$71,600 ',\n",
       "       '$76,700 ', '$29,900 ', '$36,800 ', '$57,400 ', '$61,100 ',\n",
       "       '$36,900 ', '$37,100 ', '$43,900 ', '$108,700 ', '$105,600 ',\n",
       "       '$72,800 ', '$66,800 ', '$36,500 ', '$53,800 ', '$93,800 ',\n",
       "       '$38,600 ', '$54,300 ', '$71,505 ', '$73,305 ', '$72,000 ',\n",
       "       '$36,300 ', '$82,000 ', '$28,700 ', '$96,550 ', '$76,805 ',\n",
       "       '$37,700 ', '$112,700 ', '$17,000 ', '$23,500 ', '$35,500 ',\n",
       "       '$39,500 ', '$51,500 ', '$3,000,000 ', '$3,300,000 ',\n",
       "       '$3,500,000 ', '$5,800,000 ', '$9,000,000 ', '$18,000,000 ',\n",
       "       '$5,000,000 ', '$160,000 ', '$100,000 ', '$125,000 ',\n",
       "       '$55,000 / $65,000', '$157,000 ', '$25,000 - $40,000',\n",
       "       '$30,000 - $45,000', '$15,000 - $25,000', '$20,000 - $30,000',\n",
       "       '$12,000 - $15,000', '$20,000 - $25,000', '$25,000 - $38,000',\n",
       "       '$35,000 - $45,000', '$35,000 - $55,000', '$50,000 - $75,000',\n",
       "       '$30,000 - $55,000', '$26,000 - $38,000', '$35,000 - $75,000',\n",
       "       '$40,000 - $70,000', '$45,000 - $75,000', '$22,000 - $30,000',\n",
       "       '$25,000 - $45,000', '$43,000 - $61,000', '$40,000 - $90,000',\n",
       "       '$28,000 - $38,000', '$50,000 - $55,000', '$43,455 ', '$29,365 ',\n",
       "       '$61,625 ', '$64,540 ', '$79,420 ', '$59,140 ', '$64,695 ',\n",
       "       '$84,910 ', '$56,505 ', '$79,560 ', '$16,000 - $18,000',\n",
       "       '$17,000 - $19,000', '$28,000 - $35,000', '$39,000 - $43,000',\n",
       "       '$25,000 - $28,000', '$23,000 - $26,000', '$40,000 - $45,000',\n",
       "       '$35,000 - $40,000', '$25,000 - $35,000', '$40,000 - $50,000',\n",
       "       '$15,000 - $20,000', '$25,000 - $30,000', '$32,000 - $35,000',\n",
       "       '$31,000 - $34,000', '$29,000 - $32,000', '$28,000 - $30,000',\n",
       "       '$26,000 - $28,000', '$27,000 - $35,000', '$45,000 - $50,000',\n",
       "       '$30,000 - $35,000', '$15,000 - $17,000', '$23,000 - $25,000',\n",
       "       '$17,000 - $20,000', '$70,000 - $90,000', '$50,000 - $60,000',\n",
       "       '$20,000 - $23,000', '$10,000 - $12,000', '$15,000 - $18,000',\n",
       "       '$18,000 - $22,000', '$18,000 - $20,000', '$22,000 - $26,000',\n",
       "       '$24,000 - $28,000', '$21,000 - $25,000', '$23,000 - $28,000',\n",
       "       '$26,000 - $32,000', '$29,000 - $36,000', '$36,000 - $42,000',\n",
       "       '$38,000 - $45,000', '$27,000 - $33,000', '$33,000 - $40,000',\n",
       "       '$33,000 - $37,000', '$22,000 - $28,000', '$28,000 - $33,000',\n",
       "       '$24,000 - $30,000', '$30,000 - $50,000', 'N/A (Concept Only)',\n",
       "       '$14,000 - $18,000', '$12,000 - $16,000', '$18,000 - $24,000',\n",
       "       '$13,000 - $18,000', '$9,000 - $12,000', '$12,000 - $18,000',\n",
       "       '$8,000 - $10,000', '$9,000 - $11,000', '$20,000 - $24,000',\n",
       "       '$20,000 - $22,000', '$28,000 - $32,000', '$13,000 - $16,000',\n",
       "       '$14,000 - $16,000', '$5,000,000 - $7,000,000',\n",
       "       '$43,590 \\x96 $48,000', '$25,210 \\x96 $29,135', '\\x80 33,000',\n",
       "       '$29,000 \\x96 $43,000'], dtype=object)"
      ]
     },
     "execution_count": 29,
     "metadata": {},
     "output_type": "execute_result"
    }
   ],
   "source": [
    "df['Cars Prices'].unique()"
   ]
  },
  {
   "cell_type": "code",
   "execution_count": 30,
   "id": "a2429709-aa63-4007-8e39-3b313f253a30",
   "metadata": {},
   "outputs": [],
   "source": [
    "def clean_price(price):\n",
    "    if isinstance(price, str):\n",
    "        # Normalize dash and separator types\n",
    "        normalized = price.replace(\"–\", \"-\").replace(\"—\", \"-\").replace(\"/\", \"-\")\n",
    "        # Remove currency symbols and commas\n",
    "        cleaned = re.sub(r\"[€,$]\", \"\", normalized).replace(\",\", \"\")\n",
    "        # Handle ranges by averaging\n",
    "        if \"-\" in cleaned:\n",
    "            try:\n",
    "                nums = [float(p.strip()) for p in cleaned.split(\"-\")]\n",
    "                return sum(nums) / len(nums)\n",
    "            except:\n",
    "                return np.nan\n",
    "        else:\n",
    "            try:\n",
    "                return float(cleaned.strip())\n",
    "            except:\n",
    "                return np.nan\n",
    "    return np.nan"
   ]
  },
  {
   "cell_type": "code",
   "execution_count": 31,
   "id": "85cf5b8c-3440-4663-ae1d-57d6c2860bef",
   "metadata": {},
   "outputs": [],
   "source": [
    "df[\"Cars Prices\"] = df[\"Cars Prices\"].apply(clean_price)"
   ]
  },
  {
   "cell_type": "code",
   "execution_count": 32,
   "id": "d817edd0-26c5-481e-990d-789a76f29e7b",
   "metadata": {},
   "outputs": [
    {
     "data": {
      "text/plain": [
       "array([ 1100000.,   460000.,    13500.,   161000.,   253290.,   499000.,\n",
       "         193440.,   311000.,  4500000.,   280000.,   350000.,   210000.,\n",
       "         230000.,  1700000.,   220000.,   240000.,    53900.,    27000.,\n",
       "          30000.,    85000.,    50000.,   113000.,    40000.,    25000.,\n",
       "          35000.,    20000.,    28000.,  3200000.,   316000.,   208000.,\n",
       "         142000.,   189000.,   294000.,  1300000.,  2800000.,   518000.,\n",
       "         274000.,   261000.,   493000.,   211000.,   287000.,   445000.,\n",
       "         308000.,   421000.,   242000.,   545000.,   258000.,   573000.,\n",
       "         263000.,   327000.,   273000.,   603000.,   253000.,   342000.,\n",
       "         332000.,   330000.,   360000.,   325000.,   500000.,   370000.,\n",
       "         390000.,   450000.,   340000.,   380000.,   320000.,   116000.,\n",
       "         104000.,    53000.,   109000.,    62000.,    70000.,    99000.,\n",
       "          63000.,    52000.,    49000.,    54000.,    48000.,    46000.,\n",
       "          71000.,    90000.,   102000.,   200000.,   133000.,    76000.,\n",
       "          83000.,   114000.,    69000.,   146000.,   108000.,   398000.,\n",
       "         381000.,   475000.,   335000.,   349000.,   495000.,   355000.,\n",
       "         369000.,   418000.,   401000.,   515000.,   375000.,   389000.,\n",
       "         439000.,   194000.,   101000.,    96000.,    86000.,    64000.,\n",
       "          59000.,    60000.,    43000.,    68000.,    58000.,    45000.,\n",
       "          39000.,    75000.,    78000.,   165000.,    57000.,    81000.,\n",
       "          32000.,    42000.,    38000.,    34000.,    37000.,    26000.,\n",
       "          44000.,    29000.,    31000.,    36000.,    55000.,    33000.,\n",
       "          41000.,    32500.,    29400.,    26500.,    26350.,    22500.,\n",
       "          26700.,    27100.,    38400.,    37400.,    26400.,    39900.,\n",
       "          41400.,    52400.,    44150.,    33400.,    40400.,    49400.,\n",
       "          43400.,    18400.,    24400.,    15400.,    20400.,    12400.,\n",
       "          16400.,    10400.,    11400.,    14400.,    31100.,    36995.,\n",
       "          58500.,    56000.,    25390.,    49500.,    18000.,   170000.,\n",
       "          24000.,    40799.,    20500.,    19950.,    41450.,    30500.,\n",
       "          15000.,    19000.,    22000.,    23000.,    28505.,    21995.,\n",
       "          39735.,    59995.,    31965.,    44640.,    14000.,    12000.,\n",
       "         150000.,    16700.,    15500.,    77000.,    51000.,    14500.,\n",
       "          16000.,    41820.,    58950.,    70600.,    13000.,    18500.,\n",
       "          24960.,    28500.,    42820.,    65300.,    45790.,   105000.,\n",
       "          41750.,    42500.,   175000.,    98000.,    61750.,    17500.,\n",
       "          95000.,   185000.,    67000.,    47000.,   600000.,  1000000.,\n",
       "          10000.,    88000.,    92000.,   180000.,   130000.,   115000.,\n",
       "         120000.,   190000.,    80000.,   110000.,    65000.,   131300.,\n",
       "         106500.,   113300.,   121300.,   197200.,   230400.,   161100.,\n",
       "         241300.,   222000.,    86700.,   103800.,   150900.,   132750.,\n",
       "          97700.,    63400.,    75400.,   100200.,   141700.,    65500.,\n",
       "          69600.,    90300.,    98300.,    92300.,   101400.,   200200.,\n",
       "         128900.,   136900.,   175200.,   290000.,    70400.,    82900.,\n",
       "          72200.,    91000.,    94300.,   182150.,    79000.,   167800.,\n",
       "         111200.,    85500.,   182900.,    34395.,    46595.,    38195.,\n",
       "          50995.,    94800.,   139400.,    90500.,   136700.,   106100.,\n",
       "         129900.,   137000.,   157300.,   184100.,   207000.,   223800.,\n",
       "         145300.,   135500.,   293200.,   245000.,   750000.,   191300.,\n",
       "         233000.,     8200.,    11000.,    11300.,    11800.,     9200.,\n",
       "           4000.,     6200.,     5000.,     9400.,     8700.,     6500.,\n",
       "          79295.,     8300.,     9000.,     7000.,     7200.,    82295.,\n",
       "          25500.,    10500.,    16500.,    88490.,   108490.,    40240.,\n",
       "          53240.,    98490.,   113490.,    47490.,    50490.,    69900.,\n",
       "          35195.,    42100.,    41530.,    43530.,    37695.,    31590.,\n",
       "          28345.,    38775.,    63595.,    91495.,    59865.,    50695.,\n",
       "          46500.,    44500.,    51570.,    66575.,    41295.,    82495.,\n",
       "          37490.,    44195.,    48595.,    58590.,   149990.,   104595.,\n",
       "          60495.,    41390.,    51095.,    57095.,    59990.,    64990.,\n",
       "          41290.,    14595.,    16720.,    65895.,    35915.,    26600.,\n",
       "          56995.,    59900.,    30695.,    42795.,    41500.,    45500.,\n",
       "          27495.,    28795.,    23100.,    33500.,    67300.,    61595.,\n",
       "          55895.,    50895.,    48295.,    46600.,    48900.,    43500.,\n",
       "          65900.,    43700.,    25800.,    17595.,    24100.,    28400.,\n",
       "          75700.,    29200.,    82400.,    33900.,    14395.,    37200.,\n",
       "          36100.,    34500.,    31900.,    34900.,    56400.,    64100.,\n",
       "          64400.,    31700.,    62495.,    66700.,    71600.,    76700.,\n",
       "          29900.,    36800.,    57400.,    61100.,    36900.,    37100.,\n",
       "          43900.,   108700.,   105600.,    72800.,    66800.,    36500.,\n",
       "          53800.,    93800.,    38600.,    54300.,    71505.,    73305.,\n",
       "          72000.,    36300.,    82000.,    28700.,    96550.,    76805.,\n",
       "          37700.,   112700.,    17000.,    23500.,    35500.,    39500.,\n",
       "          51500.,  3000000.,  3300000.,  3500000.,  5800000.,  9000000.,\n",
       "       18000000.,  5000000.,   160000.,   100000.,   125000.,   157000.,\n",
       "          37500.,    31500.,    62500.,    52500.,    43455.,    29365.,\n",
       "          61625.,    64540.,    79420.,    59140.,    64695.,    84910.,\n",
       "          56505.,    79560.,    24500.,    27500.,    47500.,    21500.,\n",
       "             nan,    21000.,  6000000.])"
      ]
     },
     "execution_count": 32,
     "metadata": {},
     "output_type": "execute_result"
    }
   ],
   "source": [
    "df['Cars Prices'].unique()"
   ]
  },
  {
   "cell_type": "code",
   "execution_count": 33,
   "id": "ecc50873-0eab-4d14-a80c-cac7f1293eff",
   "metadata": {},
   "outputs": [],
   "source": [
    "df['Fuel Types'] = df['Fuel Types'].str.replace(r\"[/,]\", \"\", regex=True).str.strip()"
   ]
  },
  {
   "cell_type": "code",
   "execution_count": 34,
   "id": "f53a2037-6105-4c79-a949-229c1344d3c4",
   "metadata": {},
   "outputs": [
    {
     "data": {
      "text/plain": [
       "Company Names          0\n",
       "Cars Names             0\n",
       "Engines                0\n",
       "CC/Battery Capacity    5\n",
       "HorsePower             0\n",
       "Total Speed            0\n",
       "Performance            8\n",
       "Cars Prices            5\n",
       "Fuel Types             0\n",
       "Seats                  0\n",
       "Torque                 1\n",
       "dtype: int64"
      ]
     },
     "execution_count": 34,
     "metadata": {},
     "output_type": "execute_result"
    }
   ],
   "source": [
    "df.isnull().sum()"
   ]
  },
  {
   "cell_type": "code",
   "execution_count": 35,
   "id": "b8d070ac-5c6d-4cc8-9871-6a4fce37d670",
   "metadata": {},
   "outputs": [],
   "source": [
    "df.dropna(inplace=True)"
   ]
  },
  {
   "cell_type": "code",
   "execution_count": 36,
   "id": "871936ae-6cf8-4e33-830d-b60ca1afa2f6",
   "metadata": {},
   "outputs": [
    {
     "data": {
      "text/plain": [
       "Company Names          0\n",
       "Cars Names             0\n",
       "Engines                0\n",
       "CC/Battery Capacity    0\n",
       "HorsePower             0\n",
       "Total Speed            0\n",
       "Performance            0\n",
       "Cars Prices            0\n",
       "Fuel Types             0\n",
       "Seats                  0\n",
       "Torque                 0\n",
       "dtype: int64"
      ]
     },
     "execution_count": 36,
     "metadata": {},
     "output_type": "execute_result"
    }
   ],
   "source": [
    "df.isnull().sum()"
   ]
  },
  {
   "cell_type": "code",
   "execution_count": 37,
   "id": "b3bdb01c-cf51-4317-9179-3a7b503f3a18",
   "metadata": {},
   "outputs": [
    {
     "name": "stdout",
     "output_type": "stream",
     "text": [
      "<class 'pandas.core.frame.DataFrame'>\n",
      "Index: 1202 entries, 0 to 1214\n",
      "Data columns (total 11 columns):\n",
      " #   Column               Non-Null Count  Dtype  \n",
      "---  ------               --------------  -----  \n",
      " 0   Company Names        1202 non-null   object \n",
      " 1   Cars Names           1202 non-null   object \n",
      " 2   Engines              1202 non-null   object \n",
      " 3   CC/Battery Capacity  1202 non-null   float64\n",
      " 4   HorsePower           1202 non-null   int64  \n",
      " 5   Total Speed          1202 non-null   int64  \n",
      " 6   Performance          1202 non-null   float64\n",
      " 7   Cars Prices          1202 non-null   float64\n",
      " 8   Fuel Types           1202 non-null   object \n",
      " 9   Seats                1202 non-null   int64  \n",
      " 10  Torque               1202 non-null   float64\n",
      "dtypes: float64(4), int64(3), object(4)\n",
      "memory usage: 112.7+ KB\n"
     ]
    }
   ],
   "source": [
    "df.info()"
   ]
  },
  {
   "cell_type": "code",
   "execution_count": 38,
   "id": "954fe1db-5029-4702-8df4-d1c3d73568ea",
   "metadata": {},
   "outputs": [
    {
     "data": {
      "text/plain": [
       "np.int64(5)"
      ]
     },
     "execution_count": 38,
     "metadata": {},
     "output_type": "execute_result"
    }
   ],
   "source": [
    "df.duplicated().sum()"
   ]
  },
  {
   "cell_type": "code",
   "execution_count": 39,
   "id": "e990cdd3-ac88-4054-b31a-bcfddea43f97",
   "metadata": {},
   "outputs": [
    {
     "name": "stdout",
     "output_type": "stream",
     "text": [
      "Company Names\n",
      "Nissan               148\n",
      "Volkswagen           109\n",
      "Porsche               96\n",
      "Mazda                 86\n",
      "GMC                   59\n",
      "Chevrolet             58\n",
      "Mitsubishi            56\n",
      "Ford                  54\n",
      "Kia                   54\n",
      "Peugeot               52\n",
      "TOYOTA                43\n",
      "BMW                   41\n",
      "Jaguar Land Rover     40\n",
      "Tata Motors           29\n",
      "ROLLS ROYCE           29\n",
      "Acura                 27\n",
      "LAMBORGHINI           24\n",
      "HYUNDAI               22\n",
      "AUDI                  21\n",
      "Cadillac              20\n",
      "MERCEDES              20\n",
      "Jeep                  19\n",
      "KIA                   16\n",
      "ASTON MARTIN          11\n",
      "Tesla                 10\n",
      "NISSAN                10\n",
      "Bugatti               10\n",
      "FERRARI                9\n",
      "Volvo                  9\n",
      "HONDA                  7\n",
      "VOLVO                  3\n",
      "MARUTI SUZUKI          3\n",
      "MAHINDRA               3\n",
      "KIA                    1\n",
      "ROLLS ROYCE            1\n",
      "BENTLEY                1\n",
      "Toyota                 1\n",
      "Name: count, dtype: int64\n"
     ]
    }
   ],
   "source": [
    "brand_counts = df['Company Names'].value_counts()\n",
    "print(brand_counts)"
   ]
  },
  {
   "cell_type": "markdown",
   "id": "89ae2b67-dbff-4c0c-9550-f4059370b4c1",
   "metadata": {},
   "source": [
    "## Top 10 Engines in Avg speed"
   ]
  },
  {
   "cell_type": "code",
   "execution_count": 44,
   "id": "3f638625-494a-44f3-8a7c-87c2f7b101af",
   "metadata": {},
   "outputs": [],
   "source": [
    "# Calculate average speed per engine and sort\n",
    "avg_speed_by_engine = df.groupby('Engines')['Total Speed'].mean()\n",
    "top_engines = avg_speed_by_engine.sort_values(ascending=False).head(10).reset_index()\n",
    "\n",
    "top_engines.columns = ['Engines', 'Total Speed']"
   ]
  },
  {
   "cell_type": "code",
   "execution_count": 46,
   "id": "36331290-d65b-4c44-b36b-efdd9d2cfb53",
   "metadata": {},
   "outputs": [
    {
     "name": "stdout",
     "output_type": "stream",
     "text": [
      "                     Engines  Total Speed\n",
      "0        8.0L Quad-Turbo W16   420.000000\n",
      "1       Quad Electric Motors   402.000000\n",
      "2         3.5L Twin-Turbo V8   354.000000\n",
      "3     3.8L Twin-Turbo Flat-6   326.857143\n",
      "4                        V10   325.000000\n",
      "5         3.8L Twin-Turbo V6   324.000000\n",
      "6  2.6L Wankel Rotary Engine   320.000000\n",
      "7  3.0L Twin-Turbo V6 Hybrid   320.000000\n",
      "8       Twin-Turbo V6 Hybrid   305.250000\n",
      "9   4.0L V8 + Electric Motor   305.000000\n"
     ]
    }
   ],
   "source": [
    "print(top_engines)"
   ]
  },
  {
   "cell_type": "code",
   "execution_count": 45,
   "id": "6144025a-cf99-424f-8180-c6a22e80df5f",
   "metadata": {},
   "outputs": [
    {
     "name": "stderr",
     "output_type": "stream",
     "text": [
      "C:\\Users\\rodai\\AppData\\Local\\Temp\\ipykernel_33208\\1889709908.py:2: FutureWarning: \n",
      "\n",
      "Passing `palette` without assigning `hue` is deprecated and will be removed in v0.14.0. Assign the `y` variable to `hue` and set `legend=False` for the same effect.\n",
      "\n",
      "  sns.barplot(data=top_engines, x='Total Speed', y='Engines', palette='plasma')\n"
     ]
    },
    {
     "data": {
      "image/png": "[encoded data removed]",
      "text/plain": [
       "<Figure size 1200x600 with 1 Axes>"
      ]
     },
     "metadata": {},
     "output_type": "display_data"
    }
   ],
   "source": [
    "plt.figure(figsize=(12, 6))\n",
    "sns.barplot(data=top_engines, x='Total Speed', y='Engines', palette='plasma')\n",
    "plt.title('Top 10 Engines by Average Speed')\n",
    "plt.xlabel('Average Total Speed (km/h)')\n",
    "plt.ylabel('Engine Type')\n",
    "plt.tight_layout()\n",
    "plt.show()"
   ]
  },
  {
   "cell_type": "markdown",
   "id": "ba789557-e4c1-4d5c-bdde-14b3ae6bf9f5",
   "metadata": {},
   "source": [
    "## Finding Fastest Cars"
   ]
  },
  {
   "cell_type": "code",
   "execution_count": 51,
   "id": "6a2c3280-9e4c-4037-bc66-63e028a5f629",
   "metadata": {},
   "outputs": [],
   "source": [
    "# Sort and select top 10\n",
    "fastest_cars = df.sort_values(by='Total Speed', ascending=False)\n",
    "top10 = fastest_cars[['Company Names', 'Cars Names', 'Total Speed']].head(10)\n",
    "\n",
    "# Create labels on the fly (not in df)\n",
    "labels = top10['Company Names'] + \" - \" + top10['Cars Names']\n"
   ]
  },
  {
   "cell_type": "code",
   "execution_count": 56,
   "id": "36cd6f4e-2132-4920-b8d2-31ffe0d7a12e",
   "metadata": {},
   "outputs": [
    {
     "name": "stdout",
     "output_type": "stream",
     "text": [
      "888                Bugatti - Bolide\n",
      "882    Bugatti - Chiron Super Sport\n",
      "889               Bugatti - Mistral\n",
      "883          Bugatti - Chiron Sport\n",
      "884          Bugatti - Chiron Noire\n",
      "880                Bugatti - Chiron\n",
      "887      Bugatti - La Voiture Noire\n",
      "668              Tesla - Roadster 2\n",
      "32          ASTON MARTIN - VALKYRIE\n",
      "885                  Bugatti - Divo\n",
      "dtype: object\n"
     ]
    }
   ],
   "source": [
    "print(labels)"
   ]
  },
  {
   "cell_type": "code",
   "execution_count": 59,
   "id": "658e426c-2795-4ac8-9dc0-9db3cb249534",
   "metadata": {},
   "outputs": [
    {
     "name": "stderr",
     "output_type": "stream",
     "text": [
      "C:\\Users\\rodai\\AppData\\Local\\Temp\\ipykernel_33208\\1192801221.py:7: FutureWarning: \n",
      "\n",
      "Passing `palette` without assigning `hue` is deprecated and will be removed in v0.14.0. Assign the `y` variable to `hue` and set `legend=False` for the same effect.\n",
      "\n",
      "  sns.barplot(data=plot_df, x='Total Speed', y='Label', palette='inferno')\n"
     ]
    },
    {
     "data": {
      "image/png": "[encoded data removed]",
      "text/plain": [
       "<Figure size 1200x600 with 1 Axes>"
      ]
     },
     "metadata": {},
     "output_type": "display_data"
    }
   ],
   "source": [
    "# Create a temporary DataFrame just for plotting\n",
    "plot_df = top10.copy()\n",
    "plot_df['Label'] = top10['Company Names'] + \" - \" + top10['Cars Names']\n",
    "\n",
    "plt.figure(figsize=(12, 6))\n",
    "sns.barplot(data=plot_df, x='Total Speed', y='Label', palette='inferno')\n",
    "plt.title('Top 10 Fastest Cars')\n",
    "plt.xlabel('Top Speed (km/h)')\n",
    "plt.ylabel('Car')\n",
    "plt.tight_layout()\n",
    "plt.show()"
   ]
  },
  {
   "cell_type": "markdown",
   "id": "c6558135-dc98-4e9c-94a0-853bb01d3d35",
   "metadata": {},
   "source": [
    "## BMW vs MERCEDES based on Engines"
   ]
  },
  {
   "cell_type": "code",
   "execution_count": 62,
   "id": "4790078d-c7de-4d01-8817-094585660962",
   "metadata": {},
   "outputs": [
    {
     "name": "stdout",
     "output_type": "stream",
     "text": [
      "               HorsePower  Total Speed\n",
      "Company Names                         \n",
      "BMW            274.536585   240.463415\n",
      "MERCEDES       416.950000   250.000000\n"
     ]
    }
   ],
   "source": [
    "comparison_df = df[df['Company Names'].str.upper().isin(['BMW', 'MERCEDES'])]\n",
    "\n",
    "# Group by brand and compare average horsepower and speed\n",
    "bmw_vs_mercedes = comparison_df.groupby('Company Names')[['HorsePower', 'Total Speed']].mean()\n",
    "\n",
    "print(bmw_vs_mercedes)"
   ]
  },
  {
   "cell_type": "code",
   "execution_count": 64,
   "id": "1009ca57-db52-45d1-a344-91cc86037a46",
   "metadata": {},
   "outputs": [
    {
     "data": {
      "image/png": "[encoded data removed]",
      "text/plain": [
       "<Figure size 600x600 with 1 Axes>"
      ]
     },
     "metadata": {},
     "output_type": "display_data"
    }
   ],
   "source": [
    "# Pie chart for HorsePower comparison\n",
    "plt.figure(figsize=(6, 6))\n",
    "plt.pie(\n",
    "    bmw_vs_mercedes['HorsePower'],\n",
    "    labels=bmw_vs_mercedes.index,\n",
    "    autopct='%1.1f%%',\n",
    "    colors=['skyblue', 'salmon'],\n",
    "    startangle=140\n",
    ")\n",
    "plt.title('BMW vs MERCEDES: Average HorsePower')\n",
    "plt.axis('equal')  # Equal aspect ratio for a perfect circle\n",
    "plt.show()"
   ]
  },
  {
   "cell_type": "code",
   "execution_count": 65,
   "id": "5a3a59b7-d139-4f61-8365-d2c524d662f1",
   "metadata": {},
   "outputs": [
    {
     "data": {
      "image/png": "[encoded data removed]",
      "text/plain": [
       "<Figure size 600x600 with 1 Axes>"
      ]
     },
     "metadata": {},
     "output_type": "display_data"
    }
   ],
   "source": [
    "# Pie chart for Top Speed comparison\n",
    "plt.figure(figsize=(6, 6))\n",
    "plt.pie(\n",
    "    bmw_vs_mercedes['Total Speed'],\n",
    "    labels=bmw_vs_mercedes.index,\n",
    "    autopct='%1.1f%%',\n",
    "    colors=['skyblue', 'salmon'],\n",
    "    startangle=140\n",
    ")\n",
    "plt.title('BMW vs MERCEDES: Average Total Speed')\n",
    "plt.axis('equal')\n",
    "plt.show()"
   ]
  },
  {
   "cell_type": "markdown",
   "id": "f1d838a1-b58d-460e-b99c-6e073906ff53",
   "metadata": {},
   "source": [
    "## Fuel Types Analysis"
   ]
  },
  {
   "cell_type": "code",
   "execution_count": 70,
   "id": "b07f8fad-5fa8-4f29-9dd9-8dc7246e8a7b",
   "metadata": {},
   "outputs": [
    {
     "name": "stdout",
     "output_type": "stream",
     "text": [
      "         Fuel Types  count\n",
      "0            Petrol    870\n",
      "1            Diesel    102\n",
      "2          Electric     93\n",
      "3            Hybrid     78\n",
      "4      PetrolDiesel     16\n",
      "5      PetrolHybrid     16\n",
      "6    Plug-in Hybrid      5\n",
      "7   Hybrid (Petrol)      4\n",
      "8      DieselPetrol      4\n",
      "9          Hydrogen      3\n",
      "10    Petrol Diesel      3\n",
      "11    Petrol Hybrid      2\n",
      "12        PetrolAWD      2\n",
      "13  plug in hyrbrid      1\n",
      "14   HybridElectric      1\n",
      "15        CNGPetrol      1\n",
      "16     HybridPetrol      1\n"
     ]
    }
   ],
   "source": [
    "fuel_counts = df['Fuel Types'].value_counts().reset_index()\n",
    "print(fuel_counts)"
   ]
  },
  {
   "cell_type": "code",
   "execution_count": 73,
   "id": "9cd53e0d-894b-4173-ac0f-b4f5bfd2a3a0",
   "metadata": {},
   "outputs": [
    {
     "name": "stderr",
     "output_type": "stream",
     "text": [
      "C:\\Users\\rodai\\AppData\\Local\\Temp\\ipykernel_33208\\2916344311.py:3: FutureWarning: \n",
      "\n",
      "Passing `palette` without assigning `hue` is deprecated and will be removed in v0.14.0. Assign the `x` variable to `hue` and set `legend=False` for the same effect.\n",
      "\n",
      "  sns.barplot(data=fuel_counts, x='Fuel Type', y='Count', palette='plasma')\n"
     ]
    },
    {
     "data": {
      "image/png": "[encoded data removed]",
      "text/plain": [
       "<Figure size 800x500 with 1 Axes>"
      ]
     },
     "metadata": {},
     "output_type": "display_data"
    }
   ],
   "source": [
    "fuel_counts.columns = ['Fuel Type', 'Count']\n",
    "plt.figure(figsize=(8, 5))\n",
    "sns.barplot(data=fuel_counts, x='Fuel Type', y='Count', palette='plasma')\n",
    "plt.title('Number of Cars by Fuel Type')\n",
    "plt.xlabel('Fuel Type')\n",
    "plt.ylabel('Number of Cars')\n",
    "plt.xticks(rotation=45)\n",
    "plt.tight_layout()\n",
    "plt.show()"
   ]
  },
  {
   "cell_type": "code",
   "execution_count": 76,
   "id": "9b024551-f486-484a-81ce-995a9cade0e2",
   "metadata": {},
   "outputs": [
    {
     "name": "stdout",
     "output_type": "stream",
     "text": [
      "                 Total Speed   HorsePower\n",
      "Fuel Types                               \n",
      "CNGPetrol         165.000000    86.000000\n",
      "Diesel            170.950980   206.500000\n",
      "DieselPetrol      162.500000  5617.250000\n",
      "Electric          193.408602   401.107527\n",
      "Hybrid            221.820513   320.089744\n",
      "Hybrid (Petrol)   292.500000   567.500000\n",
      "HybridElectric    160.000000   139.000000\n",
      "HybridPetrol      180.000000   220.000000\n",
      "Hydrogen          180.000000   154.666667\n",
      "Petrol            225.822989   599.086207\n",
      "Petrol Diesel     206.666667   225.333333\n",
      "Petrol Hybrid     199.500000   187.000000\n",
      "PetrolAWD         205.000000   213.500000\n",
      "PetrolDiesel      188.750000  8133.187500\n",
      "PetrolHybrid      198.500000   190.937500\n",
      "Plug-in Hybrid    188.000000   265.600000\n",
      "plug in hyrbrid   340.000000   963.000000\n"
     ]
    }
   ],
   "source": [
    "fuel_stats = df.groupby('Fuel Types')[['Total Speed', 'HorsePower']].mean()\n",
    "print(fuel_stats)"
   ]
  },
  {
   "cell_type": "code",
   "execution_count": 77,
   "id": "2db20808-8a0e-491f-a611-7d6f5348856b",
   "metadata": {},
   "outputs": [
    {
     "data": {
      "image/png": "[encoded data removed]",
      "text/plain": [
       "<Figure size 800x500 with 1 Axes>"
      ]
     },
     "metadata": {},
     "output_type": "display_data"
    }
   ],
   "source": [
    "# Bar chart of average speed by fuel\n",
    "fuel_stats['Total Speed'].sort_values().plot(kind='barh', color='orange', figsize=(8, 5))\n",
    "plt.title('Average Top Speed by Fuel Type')\n",
    "plt.xlabel('Top Speed (km/h)')\n",
    "plt.ylabel('Fuel Type')\n",
    "plt.tight_layout()\n",
    "plt.show()"
   ]
  },
  {
   "cell_type": "markdown",
   "id": "f90a39ed-a68e-4ff6-9c39-c40e220cf109",
   "metadata": {},
   "source": [
    "## Fuel type of BMW"
   ]
  },
  {
   "cell_type": "code",
   "execution_count": 78,
   "id": "37f899c7-25cb-4e06-b3a8-bead248d5ce7",
   "metadata": {},
   "outputs": [
    {
     "name": "stdout",
     "output_type": "stream",
     "text": [
      "Fuel Types\n",
      "Petrol    30\n",
      "Diesel    10\n",
      "Hybrid     1\n",
      "Name: count, dtype: int64\n"
     ]
    }
   ],
   "source": [
    "bmw_fuel = df[df['Company Names'].str.upper() == 'BMW']['Fuel Types'].value_counts()\n",
    "\n",
    "print(bmw_fuel)"
   ]
  },
  {
   "cell_type": "code",
   "execution_count": 80,
   "id": "2d0dafc1-faa7-4029-b648-7b9439da5466",
   "metadata": {},
   "outputs": [
    {
     "data": {
      "image/png": "[encoded data removed]",
      "text/plain": [
       "<Figure size 600x600 with 1 Axes>"
      ]
     },
     "metadata": {},
     "output_type": "display_data"
    }
   ],
   "source": [
    "plt.figure(figsize=(6, 6))\n",
    "bmw_fuel.plot(kind='pie', autopct='%1.1f%%', startangle=90, colors=['salmon', 'lightblue', 'lightgreen', 'lightcoral'])\n",
    "plt.title('BMW Fuel Type Distribution')\n",
    "plt.ylabel('')  # Hide y-axis label\n",
    "plt.tight_layout()\n",
    "plt.show()"
   ]
  },
  {
   "cell_type": "code",
   "execution_count": null,
   "id": "f1d482cd-6a84-42a1-9ae8-f72ee2a7f4ed",
   "metadata": {},
   "outputs": [],
   "source": [
    "# save your cleaned DataFrame (e.g. df) to Excel\n",
    "df.to_excel('cleaned_cars_dataset.xlsx', index=False)"
   ]
  }
 ],
 "metadata": {
  "kernelspec": {
   "display_name": "Python 3 (ipykernel)",
   "language": "python",
   "name": "python3"
  },
  "language_info": {
   "codemirror_mode": {
    "name": "ipython",
    "version": 3
   },
   "file_extension": ".py",
   "mimetype": "text/x-python",
   "name": "python",
   "nbconvert_exporter": "python",
   "pygments_lexer": "ipython3",
   "version": "3.13.5"
  }
 },
 "nbformat": 4,
 "nbformat_minor": 5
}
